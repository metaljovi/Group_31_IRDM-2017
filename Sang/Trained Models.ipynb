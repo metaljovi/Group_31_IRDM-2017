{
 "cells": [
  {
   "cell_type": "markdown",
   "metadata": {},
   "source": [
    "# Home Depot Kaggle Challenge for IRDM UCL 2017\n",
    "\n",
    "As part of the IRDM coursework we were required to create a model that would accurately predict the relvance score between a search term and a product.\n",
    "\n",
    "This is an implementation by Sang using GraphLab."
   ]
  },
  {
   "cell_type": "markdown",
   "metadata": {},
   "source": [
    "## Import Tools and Data"
   ]
  },
  {
   "cell_type": "code",
   "execution_count": 1,
   "metadata": {},
   "outputs": [],
   "source": [
    "import graphlab as gl\n",
    "from graphlab.toolkits.feature_engineering import *"
   ]
  },
  {
   "cell_type": "code",
   "execution_count": null,
   "metadata": {
    "collapsed": true
   },
   "outputs": [],
   "source": [
    "#gl.canvas.set_target('ipynb')"
   ]
  },
  {
   "cell_type": "code",
   "execution_count": 2,
   "metadata": {},
   "outputs": [
    {
     "name": "stdout",
     "output_type": "stream",
     "text": [
      "This non-commercial license of GraphLab Create for academic use is assigned to sang.song.16@ucl.ac.uk and will expire on April 05, 2018.\n"
     ]
    },
    {
     "name": "stderr",
     "output_type": "stream",
     "text": [
      "[INFO] graphlab.cython.cy_server: GraphLab Create v2.1 started. Logging: /tmp/graphlab_server_1492608667.log\n"
     ]
    },
    {
     "data": {
      "text/html": [
       "<pre>Finished parsing file /Users/ssong/Downloads/IRDM/train.csv</pre>"
      ],
      "text/plain": [
       "Finished parsing file /Users/ssong/Downloads/IRDM/train.csv"
      ]
     },
     "metadata": {},
     "output_type": "display_data"
    },
    {
     "data": {
      "text/html": [
       "<pre>Parsing completed. Parsed 100 lines in 0.119684 secs.</pre>"
      ],
      "text/plain": [
       "Parsing completed. Parsed 100 lines in 0.119684 secs."
      ]
     },
     "metadata": {},
     "output_type": "display_data"
    },
    {
     "name": "stdout",
     "output_type": "stream",
     "text": [
      "------------------------------------------------------\n",
      "Inferred types from first 100 line(s) of file as \n",
      "column_type_hints=[int,int,str,str,float]\n",
      "If parsing fails due to incorrect types, you can correct\n",
      "the inferred type list above and pass it to read_csv in\n",
      "the column_type_hints argument\n",
      "------------------------------------------------------\n"
     ]
    },
    {
     "data": {
      "text/html": [
       "<pre>Finished parsing file /Users/ssong/Downloads/IRDM/train.csv</pre>"
      ],
      "text/plain": [
       "Finished parsing file /Users/ssong/Downloads/IRDM/train.csv"
      ]
     },
     "metadata": {},
     "output_type": "display_data"
    },
    {
     "data": {
      "text/html": [
       "<pre>Parsing completed. Parsed 74067 lines in 0.168418 secs.</pre>"
      ],
      "text/plain": [
       "Parsing completed. Parsed 74067 lines in 0.168418 secs."
      ]
     },
     "metadata": {},
     "output_type": "display_data"
    },
    {
     "data": {
      "text/html": [
       "<pre>Finished parsing file /Users/ssong/Downloads/IRDM/test.csv</pre>"
      ],
      "text/plain": [
       "Finished parsing file /Users/ssong/Downloads/IRDM/test.csv"
      ]
     },
     "metadata": {},
     "output_type": "display_data"
    },
    {
     "data": {
      "text/html": [
       "<pre>Parsing completed. Parsed 100 lines in 0.225157 secs.</pre>"
      ],
      "text/plain": [
       "Parsing completed. Parsed 100 lines in 0.225157 secs."
      ]
     },
     "metadata": {},
     "output_type": "display_data"
    },
    {
     "name": "stdout",
     "output_type": "stream",
     "text": [
      "------------------------------------------------------\n",
      "Inferred types from first 100 line(s) of file as \n",
      "column_type_hints=[int,int,str,str]\n",
      "If parsing fails due to incorrect types, you can correct\n",
      "the inferred type list above and pass it to read_csv in\n",
      "the column_type_hints argument\n",
      "------------------------------------------------------\n"
     ]
    },
    {
     "data": {
      "text/html": [
       "<pre>Finished parsing file /Users/ssong/Downloads/IRDM/test.csv</pre>"
      ],
      "text/plain": [
       "Finished parsing file /Users/ssong/Downloads/IRDM/test.csv"
      ]
     },
     "metadata": {},
     "output_type": "display_data"
    },
    {
     "data": {
      "text/html": [
       "<pre>Parsing completed. Parsed 166693 lines in 0.335375 secs.</pre>"
      ],
      "text/plain": [
       "Parsing completed. Parsed 166693 lines in 0.335375 secs."
      ]
     },
     "metadata": {},
     "output_type": "display_data"
    },
    {
     "data": {
      "text/html": [
       "<pre>Finished parsing file /Users/ssong/Downloads/IRDM/attributes.csv</pre>"
      ],
      "text/plain": [
       "Finished parsing file /Users/ssong/Downloads/IRDM/attributes.csv"
      ]
     },
     "metadata": {},
     "output_type": "display_data"
    },
    {
     "data": {
      "text/html": [
       "<pre>Parsing completed. Parsed 100 lines in 0.819861 secs.</pre>"
      ],
      "text/plain": [
       "Parsing completed. Parsed 100 lines in 0.819861 secs."
      ]
     },
     "metadata": {},
     "output_type": "display_data"
    },
    {
     "name": "stdout",
     "output_type": "stream",
     "text": [
      "------------------------------------------------------\n",
      "Inferred types from first 100 line(s) of file as \n",
      "column_type_hints=[int,str,str]\n",
      "If parsing fails due to incorrect types, you can correct\n",
      "the inferred type list above and pass it to read_csv in\n",
      "the column_type_hints argument\n",
      "------------------------------------------------------\n"
     ]
    },
    {
     "data": {
      "text/html": [
       "<pre>Read 1038072 lines. Lines per second: 847897</pre>"
      ],
      "text/plain": [
       "Read 1038072 lines. Lines per second: 847897"
      ]
     },
     "metadata": {},
     "output_type": "display_data"
    },
    {
     "data": {
      "text/html": [
       "<pre>Finished parsing file /Users/ssong/Downloads/IRDM/attributes.csv</pre>"
      ],
      "text/plain": [
       "Finished parsing file /Users/ssong/Downloads/IRDM/attributes.csv"
      ]
     },
     "metadata": {},
     "output_type": "display_data"
    },
    {
     "data": {
      "text/html": [
       "<pre>Parsing completed. Parsed 2044803 lines in 1.80033 secs.</pre>"
      ],
      "text/plain": [
       "Parsing completed. Parsed 2044803 lines in 1.80033 secs."
      ]
     },
     "metadata": {},
     "output_type": "display_data"
    },
    {
     "data": {
      "text/html": [
       "<pre>Finished parsing file /Users/ssong/Downloads/IRDM/product_descriptions.csv</pre>"
      ],
      "text/plain": [
       "Finished parsing file /Users/ssong/Downloads/IRDM/product_descriptions.csv"
      ]
     },
     "metadata": {},
     "output_type": "display_data"
    },
    {
     "data": {
      "text/html": [
       "<pre>Parsing completed. Parsed 100 lines in 0.543586 secs.</pre>"
      ],
      "text/plain": [
       "Parsing completed. Parsed 100 lines in 0.543586 secs."
      ]
     },
     "metadata": {},
     "output_type": "display_data"
    },
    {
     "name": "stdout",
     "output_type": "stream",
     "text": [
      "------------------------------------------------------\n",
      "Inferred types from first 100 line(s) of file as \n",
      "column_type_hints=[int,str]\n",
      "If parsing fails due to incorrect types, you can correct\n",
      "the inferred type list above and pass it to read_csv in\n",
      "the column_type_hints argument\n",
      "------------------------------------------------------\n"
     ]
    },
    {
     "data": {
      "text/html": [
       "<pre>Finished parsing file /Users/ssong/Downloads/IRDM/product_descriptions.csv</pre>"
      ],
      "text/plain": [
       "Finished parsing file /Users/ssong/Downloads/IRDM/product_descriptions.csv"
      ]
     },
     "metadata": {},
     "output_type": "display_data"
    },
    {
     "data": {
      "text/html": [
       "<pre>Parsing completed. Parsed 124428 lines in 1.61163 secs.</pre>"
      ],
      "text/plain": [
       "Parsing completed. Parsed 124428 lines in 1.61163 secs."
      ]
     },
     "metadata": {},
     "output_type": "display_data"
    }
   ],
   "source": [
    "df_train = gl.SFrame('/Users/ssong/Downloads/IRDM/train.csv')\n",
    "df_test = gl.SFrame('/Users/ssong/Downloads/IRDM/test.csv')\n",
    "df_attr = gl.SFrame('/Users/ssong/Downloads/IRDM/attributes.csv')\n",
    "df_desc = gl.SFrame('/Users/ssong/Downloads/IRDM/product_descriptions.csv')"
   ]
  },
  {
   "cell_type": "code",
   "execution_count": 3,
   "metadata": {},
   "outputs": [
    {
     "name": "stdout",
     "output_type": "stream",
     "text": [
      "Canvas is accessible via web browser at the URL: http://localhost:61284/index.html\n",
      "Opening Canvas in default web browser.\n",
      "Canvas is accessible via web browser at the URL: http://localhost:61284/index.html\n",
      "Opening Canvas in default web browser.\n",
      "Canvas is accessible via web browser at the URL: http://localhost:61284/index.html\n",
      "Opening Canvas in default web browser.\n",
      "Canvas is accessible via web browser at the URL: http://localhost:61284/index.html\n",
      "Opening Canvas in default web browser.\n"
     ]
    }
   ],
   "source": [
    "df_train.show()\n",
    "df_test.show()\n",
    "df_attr.show()\n",
    "df_desc.show()"
   ]
  },
  {
   "cell_type": "markdown",
   "metadata": {},
   "source": [
    "## Preparing the Data\n",
    "* TF-IDF"
   ]
  },
  {
   "cell_type": "code",
   "execution_count": null,
   "metadata": {
    "collapsed": true
   },
   "outputs": [],
   "source": [
    "## TF-IDF\n",
    "\n",
    "tfidf_encoder = gl.feature_engineering.create(df_train, TFIDF(['product_title', 'search_term']))\n",
    "tfidf_train = tfidf_encoder.transform(df_train)\n",
    "tfidf_encoder2 = gl.feature_engineering.create(df_test, TFIDF(['product_title', 'search_term']))\n",
    "tfidf_test = tfidf_encoder2.transform(df_test)"
   ]
  },
  {
   "cell_type": "code",
   "execution_count": 5,
   "metadata": {
    "collapsed": true
   },
   "outputs": [],
   "source": [
    "uid = df_test['id']"
   ]
  },
  {
   "cell_type": "markdown",
   "metadata": {},
   "source": [
    "## Random Forest Model\n",
    "RMSE with df_train: 0.52774\n",
    "\n",
    "RMSE with train_combined: 0.53869\n",
    "\n",
    "Validation RMSE: 0.528205"
   ]
  },
  {
   "cell_type": "code",
   "execution_count": 6,
   "metadata": {},
   "outputs": [
    {
     "name": "stdout",
     "output_type": "stream",
     "text": [
      "PROGRESS: Creating a validation set from 5 percent of training data. This may take a while.\n",
      "          You can set ``validation_set=None`` to disable validation tracking.\n",
      "\n"
     ]
    },
    {
     "data": {
      "text/html": [
       "<pre>Random forest regression:</pre>"
      ],
      "text/plain": [
       "Random forest regression:"
      ]
     },
     "metadata": {},
     "output_type": "display_data"
    },
    {
     "data": {
      "text/html": [
       "<pre>--------------------------------------------------------</pre>"
      ],
      "text/plain": [
       "--------------------------------------------------------"
      ]
     },
     "metadata": {},
     "output_type": "display_data"
    },
    {
     "data": {
      "text/html": [
       "<pre>Number of examples          : 70449</pre>"
      ],
      "text/plain": [
       "Number of examples          : 70449"
      ]
     },
     "metadata": {},
     "output_type": "display_data"
    },
    {
     "data": {
      "text/html": [
       "<pre>Number of features          : 4</pre>"
      ],
      "text/plain": [
       "Number of features          : 4"
      ]
     },
     "metadata": {},
     "output_type": "display_data"
    },
    {
     "data": {
      "text/html": [
       "<pre>Number of unpacked features : 4</pre>"
      ],
      "text/plain": [
       "Number of unpacked features : 4"
      ]
     },
     "metadata": {},
     "output_type": "display_data"
    },
    {
     "data": {
      "text/html": [
       "<pre>+-----------+--------------+--------------------+----------------------+---------------+-----------------+</pre>"
      ],
      "text/plain": [
       "+-----------+--------------+--------------------+----------------------+---------------+-----------------+"
      ]
     },
     "metadata": {},
     "output_type": "display_data"
    },
    {
     "data": {
      "text/html": [
       "<pre>| Iteration | Elapsed Time | Training-max_error | Validation-max_error | Training-rmse | Validation-rmse |</pre>"
      ],
      "text/plain": [
       "| Iteration | Elapsed Time | Training-max_error | Validation-max_error | Training-rmse | Validation-rmse |"
      ]
     },
     "metadata": {},
     "output_type": "display_data"
    },
    {
     "data": {
      "text/html": [
       "<pre>+-----------+--------------+--------------------+----------------------+---------------+-----------------+</pre>"
      ],
      "text/plain": [
       "+-----------+--------------+--------------------+----------------------+---------------+-----------------+"
      ]
     },
     "metadata": {},
     "output_type": "display_data"
    },
    {
     "data": {
      "text/html": [
       "<pre>| 1         | 0.066807     | 1.435901           | 1.435901             | 0.525023      | 0.526041        |</pre>"
      ],
      "text/plain": [
       "| 1         | 0.066807     | 1.435901           | 1.435901             | 0.525023      | 0.526041        |"
      ]
     },
     "metadata": {},
     "output_type": "display_data"
    },
    {
     "data": {
      "text/html": [
       "<pre>| 2         | 0.108570     | 1.440246           | 1.440246             | 0.524586      | 0.525588        |</pre>"
      ],
      "text/plain": [
       "| 2         | 0.108570     | 1.440246           | 1.440246             | 0.524586      | 0.525588        |"
      ]
     },
     "metadata": {},
     "output_type": "display_data"
    },
    {
     "data": {
      "text/html": [
       "<pre>| 3         | 0.147377     | 1.421628           | 1.421628             | 0.525434      | 0.526040        |</pre>"
      ],
      "text/plain": [
       "| 3         | 0.147377     | 1.421628           | 1.421628             | 0.525434      | 0.526040        |"
      ]
     },
     "metadata": {},
     "output_type": "display_data"
    },
    {
     "data": {
      "text/html": [
       "<pre>| 4         | 0.191522     | 1.426398           | 1.426398             | 0.524894      | 0.525757        |</pre>"
      ],
      "text/plain": [
       "| 4         | 0.191522     | 1.426398           | 1.426398             | 0.524894      | 0.525757        |"
      ]
     },
     "metadata": {},
     "output_type": "display_data"
    },
    {
     "data": {
      "text/html": [
       "<pre>| 5         | 0.242282     | 1.427752           | 1.427752             | 0.524629      | 0.525453        |</pre>"
      ],
      "text/plain": [
       "| 5         | 0.242282     | 1.427752           | 1.427752             | 0.524629      | 0.525453        |"
      ]
     },
     "metadata": {},
     "output_type": "display_data"
    },
    {
     "data": {
      "text/html": [
       "<pre>| 6         | 0.288295     | 1.429857           | 1.429857             | 0.524448      | 0.525426        |</pre>"
      ],
      "text/plain": [
       "| 6         | 0.288295     | 1.429857           | 1.429857             | 0.524448      | 0.525426        |"
      ]
     },
     "metadata": {},
     "output_type": "display_data"
    },
    {
     "data": {
      "text/html": [
       "<pre>| 11        | 0.494840     | 1.435607           | 1.435607             | 0.524075      | 0.525380        |</pre>"
      ],
      "text/plain": [
       "| 11        | 0.494840     | 1.435607           | 1.435607             | 0.524075      | 0.525380        |"
      ]
     },
     "metadata": {},
     "output_type": "display_data"
    },
    {
     "data": {
      "text/html": [
       "<pre>| 25        | 1.054140     | 1.437835           | 1.437835             | 0.523935      | 0.525271        |</pre>"
      ],
      "text/plain": [
       "| 25        | 1.054140     | 1.437835           | 1.437835             | 0.523935      | 0.525271        |"
      ]
     },
     "metadata": {},
     "output_type": "display_data"
    },
    {
     "data": {
      "text/html": [
       "<pre>| 50        | 2.036886     | 1.437927           | 1.437927             | 0.523881      | 0.525134        |</pre>"
      ],
      "text/plain": [
       "| 50        | 2.036886     | 1.437927           | 1.437927             | 0.523881      | 0.525134        |"
      ]
     },
     "metadata": {},
     "output_type": "display_data"
    },
    {
     "data": {
      "text/html": [
       "<pre>| 51        | 2.087140     | 1.437938           | 1.437938             | 0.523881      | 0.525142        |</pre>"
      ],
      "text/plain": [
       "| 51        | 2.087140     | 1.437938           | 1.437938             | 0.523881      | 0.525142        |"
      ]
     },
     "metadata": {},
     "output_type": "display_data"
    },
    {
     "data": {
      "text/html": [
       "<pre>| 75        | 3.018596     | 1.437734           | 1.437734             | 0.523869      | 0.525051        |</pre>"
      ],
      "text/plain": [
       "| 75        | 3.018596     | 1.437734           | 1.437734             | 0.523869      | 0.525051        |"
      ]
     },
     "metadata": {},
     "output_type": "display_data"
    },
    {
     "data": {
      "text/html": [
       "<pre>| 100       | 4.024898     | 1.438277           | 1.438277             | 0.523863      | 0.525096        |</pre>"
      ],
      "text/plain": [
       "| 100       | 4.024898     | 1.438277           | 1.438277             | 0.523863      | 0.525096        |"
      ]
     },
     "metadata": {},
     "output_type": "display_data"
    },
    {
     "data": {
      "text/html": [
       "<pre>| 101       | 4.073297     | 1.438430           | 1.438430             | 0.523854      | 0.525101        |</pre>"
      ],
      "text/plain": [
       "| 101       | 4.073297     | 1.438430           | 1.438430             | 0.523854      | 0.525101        |"
      ]
     },
     "metadata": {},
     "output_type": "display_data"
    },
    {
     "data": {
      "text/html": [
       "<pre>| 125       | 5.021034     | 1.438360           | 1.438360             | 0.523846      | 0.525054        |</pre>"
      ],
      "text/plain": [
       "| 125       | 5.021034     | 1.438360           | 1.438360             | 0.523846      | 0.525054        |"
      ]
     },
     "metadata": {},
     "output_type": "display_data"
    },
    {
     "data": {
      "text/html": [
       "<pre>| 150       | 6.020554     | 1.437338           | 1.437338             | 0.523866      | 0.525111        |</pre>"
      ],
      "text/plain": [
       "| 150       | 6.020554     | 1.437338           | 1.437338             | 0.523866      | 0.525111        |"
      ]
     },
     "metadata": {},
     "output_type": "display_data"
    },
    {
     "data": {
      "text/html": [
       "<pre>| 175       | 6.980250     | 1.437658           | 1.437658             | 0.523858      | 0.525134        |</pre>"
      ],
      "text/plain": [
       "| 175       | 6.980250     | 1.437658           | 1.437658             | 0.523858      | 0.525134        |"
      ]
     },
     "metadata": {},
     "output_type": "display_data"
    },
    {
     "data": {
      "text/html": [
       "<pre>| 200       | 7.986036     | 1.438025           | 1.438025             | 0.523842      | 0.525132        |</pre>"
      ],
      "text/plain": [
       "| 200       | 7.986036     | 1.438025           | 1.438025             | 0.523842      | 0.525132        |"
      ]
     },
     "metadata": {},
     "output_type": "display_data"
    },
    {
     "data": {
      "text/html": [
       "<pre>| 225       | 8.996615     | 1.438268           | 1.438268             | 0.523838      | 0.525113        |</pre>"
      ],
      "text/plain": [
       "| 225       | 8.996615     | 1.438268           | 1.438268             | 0.523838      | 0.525113        |"
      ]
     },
     "metadata": {},
     "output_type": "display_data"
    },
    {
     "data": {
      "text/html": [
       "<pre>| 250       | 10.006762    | 1.438500           | 1.438500             | 0.523836      | 0.525132        |</pre>"
      ],
      "text/plain": [
       "| 250       | 10.006762    | 1.438500           | 1.438500             | 0.523836      | 0.525132        |"
      ]
     },
     "metadata": {},
     "output_type": "display_data"
    },
    {
     "data": {
      "text/html": [
       "<pre>| 275       | 10.963277    | 1.438906           | 1.438906             | 0.523828      | 0.525138        |</pre>"
      ],
      "text/plain": [
       "| 275       | 10.963277    | 1.438906           | 1.438906             | 0.523828      | 0.525138        |"
      ]
     },
     "metadata": {},
     "output_type": "display_data"
    },
    {
     "data": {
      "text/html": [
       "<pre>| 300       | 11.975899    | 1.438649           | 1.438649             | 0.523832      | 0.525125        |</pre>"
      ],
      "text/plain": [
       "| 300       | 11.975899    | 1.438649           | 1.438649             | 0.523832      | 0.525125        |"
      ]
     },
     "metadata": {},
     "output_type": "display_data"
    },
    {
     "data": {
      "text/html": [
       "<pre>| 325       | 12.955351    | 1.438370           | 1.438370             | 0.523834      | 0.525135        |</pre>"
      ],
      "text/plain": [
       "| 325       | 12.955351    | 1.438370           | 1.438370             | 0.523834      | 0.525135        |"
      ]
     },
     "metadata": {},
     "output_type": "display_data"
    },
    {
     "data": {
      "text/html": [
       "<pre>| 350       | 13.945460    | 1.438121           | 1.438121             | 0.523839      | 0.525141        |</pre>"
      ],
      "text/plain": [
       "| 350       | 13.945460    | 1.438121           | 1.438121             | 0.523839      | 0.525141        |"
      ]
     },
     "metadata": {},
     "output_type": "display_data"
    },
    {
     "data": {
      "text/html": [
       "<pre>| 375       | 14.940678    | 1.438044           | 1.438044             | 0.523838      | 0.525123        |</pre>"
      ],
      "text/plain": [
       "| 375       | 14.940678    | 1.438044           | 1.438044             | 0.523838      | 0.525123        |"
      ]
     },
     "metadata": {},
     "output_type": "display_data"
    },
    {
     "data": {
      "text/html": [
       "<pre>| 400       | 15.910734    | 1.438192           | 1.438192             | 0.523832      | 0.525120        |</pre>"
      ],
      "text/plain": [
       "| 400       | 15.910734    | 1.438192           | 1.438192             | 0.523832      | 0.525120        |"
      ]
     },
     "metadata": {},
     "output_type": "display_data"
    },
    {
     "data": {
      "text/html": [
       "<pre>| 425       | 16.898393    | 1.438437           | 1.438437             | 0.523830      | 0.525115        |</pre>"
      ],
      "text/plain": [
       "| 425       | 16.898393    | 1.438437           | 1.438437             | 0.523830      | 0.525115        |"
      ]
     },
     "metadata": {},
     "output_type": "display_data"
    },
    {
     "data": {
      "text/html": [
       "<pre>| 450       | 17.915960    | 1.438649           | 1.438649             | 0.523825      | 0.525102        |</pre>"
      ],
      "text/plain": [
       "| 450       | 17.915960    | 1.438649           | 1.438649             | 0.523825      | 0.525102        |"
      ]
     },
     "metadata": {},
     "output_type": "display_data"
    },
    {
     "data": {
      "text/html": [
       "<pre>| 475       | 18.933171    | 1.438839           | 1.438839             | 0.523820      | 0.525091        |</pre>"
      ],
      "text/plain": [
       "| 475       | 18.933171    | 1.438839           | 1.438839             | 0.523820      | 0.525091        |"
      ]
     },
     "metadata": {},
     "output_type": "display_data"
    },
    {
     "data": {
      "text/html": [
       "<pre>| 500       | 19.886837    | 1.438457           | 1.438457             | 0.523828      | 0.525088        |</pre>"
      ],
      "text/plain": [
       "| 500       | 19.886837    | 1.438457           | 1.438457             | 0.523828      | 0.525088        |"
      ]
     },
     "metadata": {},
     "output_type": "display_data"
    },
    {
     "data": {
      "text/html": [
       "<pre>| 501       | 19.926960    | 1.438461           | 1.438461             | 0.523828      | 0.525088        |</pre>"
      ],
      "text/plain": [
       "| 501       | 19.926960    | 1.438461           | 1.438461             | 0.523828      | 0.525088        |"
      ]
     },
     "metadata": {},
     "output_type": "display_data"
    },
    {
     "data": {
      "text/html": [
       "<pre>| 525       | 20.865531    | 1.438262           | 1.438262             | 0.523831      | 0.525090        |</pre>"
      ],
      "text/plain": [
       "| 525       | 20.865531    | 1.438262           | 1.438262             | 0.523831      | 0.525090        |"
      ]
     },
     "metadata": {},
     "output_type": "display_data"
    },
    {
     "data": {
      "text/html": [
       "<pre>| 550       | 21.865794    | 1.438337           | 1.438337             | 0.523831      | 0.525107        |</pre>"
      ],
      "text/plain": [
       "| 550       | 21.865794    | 1.438337           | 1.438337             | 0.523831      | 0.525107        |"
      ]
     },
     "metadata": {},
     "output_type": "display_data"
    },
    {
     "data": {
      "text/html": [
       "<pre>| 575       | 22.876889    | 1.438268           | 1.438268             | 0.523834      | 0.525105        |</pre>"
      ],
      "text/plain": [
       "| 575       | 22.876889    | 1.438268           | 1.438268             | 0.523834      | 0.525105        |"
      ]
     },
     "metadata": {},
     "output_type": "display_data"
    },
    {
     "data": {
      "text/html": [
       "<pre>| 600       | 23.856509    | 1.438272           | 1.438272             | 0.523835      | 0.525097        |</pre>"
      ],
      "text/plain": [
       "| 600       | 23.856509    | 1.438272           | 1.438272             | 0.523835      | 0.525097        |"
      ]
     },
     "metadata": {},
     "output_type": "display_data"
    },
    {
     "data": {
      "text/html": [
       "<pre>| 625       | 24.874293    | 1.438271           | 1.438271             | 0.523835      | 0.525096        |</pre>"
      ],
      "text/plain": [
       "| 625       | 24.874293    | 1.438271           | 1.438271             | 0.523835      | 0.525096        |"
      ]
     },
     "metadata": {},
     "output_type": "display_data"
    },
    {
     "data": {
      "text/html": [
       "<pre>| 650       | 25.835948    | 1.438183           | 1.438183             | 0.523837      | 0.525102        |</pre>"
      ],
      "text/plain": [
       "| 650       | 25.835948    | 1.438183           | 1.438183             | 0.523837      | 0.525102        |"
      ]
     },
     "metadata": {},
     "output_type": "display_data"
    },
    {
     "data": {
      "text/html": [
       "<pre>| 675       | 26.841548    | 1.438187           | 1.438187             | 0.523837      | 0.525094        |</pre>"
      ],
      "text/plain": [
       "| 675       | 26.841548    | 1.438187           | 1.438187             | 0.523837      | 0.525094        |"
      ]
     },
     "metadata": {},
     "output_type": "display_data"
    },
    {
     "data": {
      "text/html": [
       "<pre>| 700       | 27.829218    | 1.438304           | 1.438304             | 0.523834      | 0.525099        |</pre>"
      ],
      "text/plain": [
       "| 700       | 27.829218    | 1.438304           | 1.438304             | 0.523834      | 0.525099        |"
      ]
     },
     "metadata": {},
     "output_type": "display_data"
    },
    {
     "data": {
      "text/html": [
       "<pre>| 725       | 28.801062    | 1.438210           | 1.438210             | 0.523835      | 0.525104        |</pre>"
      ],
      "text/plain": [
       "| 725       | 28.801062    | 1.438210           | 1.438210             | 0.523835      | 0.525104        |"
      ]
     },
     "metadata": {},
     "output_type": "display_data"
    },
    {
     "data": {
      "text/html": [
       "<pre>| 750       | 29.760864    | 1.438239           | 1.438239             | 0.523836      | 0.525094        |</pre>"
      ],
      "text/plain": [
       "| 750       | 29.760864    | 1.438239           | 1.438239             | 0.523836      | 0.525094        |"
      ]
     },
     "metadata": {},
     "output_type": "display_data"
    },
    {
     "data": {
      "text/html": [
       "<pre>| 775       | 30.731466    | 1.438246           | 1.438246             | 0.523833      | 0.525100        |</pre>"
      ],
      "text/plain": [
       "| 775       | 30.731466    | 1.438246           | 1.438246             | 0.523833      | 0.525100        |"
      ]
     },
     "metadata": {},
     "output_type": "display_data"
    },
    {
     "data": {
      "text/html": [
       "<pre>| 800       | 31.706515    | 1.438135           | 1.438135             | 0.523837      | 0.525100        |</pre>"
      ],
      "text/plain": [
       "| 800       | 31.706515    | 1.438135           | 1.438135             | 0.523837      | 0.525100        |"
      ]
     },
     "metadata": {},
     "output_type": "display_data"
    },
    {
     "data": {
      "text/html": [
       "<pre>| 825       | 32.696510    | 1.438221           | 1.438221             | 0.523834      | 0.525091        |</pre>"
      ],
      "text/plain": [
       "| 825       | 32.696510    | 1.438221           | 1.438221             | 0.523834      | 0.525091        |"
      ]
     },
     "metadata": {},
     "output_type": "display_data"
    },
    {
     "data": {
      "text/html": [
       "<pre>| 850       | 33.724281    | 1.438323           | 1.438323             | 0.523831      | 0.525093        |</pre>"
      ],
      "text/plain": [
       "| 850       | 33.724281    | 1.438323           | 1.438323             | 0.523831      | 0.525093        |"
      ]
     },
     "metadata": {},
     "output_type": "display_data"
    },
    {
     "data": {
      "text/html": [
       "<pre>| 875       | 34.708830    | 1.438289           | 1.438289             | 0.523832      | 0.525090        |</pre>"
      ],
      "text/plain": [
       "| 875       | 34.708830    | 1.438289           | 1.438289             | 0.523832      | 0.525090        |"
      ]
     },
     "metadata": {},
     "output_type": "display_data"
    },
    {
     "data": {
      "text/html": [
       "<pre>| 900       | 35.767947    | 1.438325           | 1.438325             | 0.523831      | 0.525072        |</pre>"
      ],
      "text/plain": [
       "| 900       | 35.767947    | 1.438325           | 1.438325             | 0.523831      | 0.525072        |"
      ]
     },
     "metadata": {},
     "output_type": "display_data"
    },
    {
     "data": {
      "text/html": [
       "<pre>| 925       | 36.797970    | 1.438325           | 1.438325             | 0.523830      | 0.525072        |</pre>"
      ],
      "text/plain": [
       "| 925       | 36.797970    | 1.438325           | 1.438325             | 0.523830      | 0.525072        |"
      ]
     },
     "metadata": {},
     "output_type": "display_data"
    },
    {
     "data": {
      "text/html": [
       "<pre>| 950       | 37.759682    | 1.438335           | 1.438335             | 0.523830      | 0.525072        |</pre>"
      ],
      "text/plain": [
       "| 950       | 37.759682    | 1.438335           | 1.438335             | 0.523830      | 0.525072        |"
      ]
     },
     "metadata": {},
     "output_type": "display_data"
    },
    {
     "data": {
      "text/html": [
       "<pre>| 975       | 38.809768    | 1.438377           | 1.438377             | 0.523830      | 0.525070        |</pre>"
      ],
      "text/plain": [
       "| 975       | 38.809768    | 1.438377           | 1.438377             | 0.523830      | 0.525070        |"
      ]
     },
     "metadata": {},
     "output_type": "display_data"
    },
    {
     "data": {
      "text/html": [
       "<pre>| 1000      | 39.801454    | 1.438300           | 1.438300             | 0.523831      | 0.525064        |</pre>"
      ],
      "text/plain": [
       "| 1000      | 39.801454    | 1.438300           | 1.438300             | 0.523831      | 0.525064        |"
      ]
     },
     "metadata": {},
     "output_type": "display_data"
    },
    {
     "data": {
      "text/html": [
       "<pre>+-----------+--------------+--------------------+----------------------+---------------+-----------------+</pre>"
      ],
      "text/plain": [
       "+-----------+--------------+--------------------+----------------------+---------------+-----------------+"
      ]
     },
     "metadata": {},
     "output_type": "display_data"
    }
   ],
   "source": [
    "rf_model = gl.random_forest_regression.create(df_train, target='relevance', max_iterations=1000, row_subsample=0.5)\n",
    "rf_prediction = rf_model.predict(df_test)\n",
    "\n",
    "rf_pred = rf_prediction\n",
    "\n",
    "rf = gl.SFrame({'id':uid,\n",
    "            'relevance':rf_pred})\n",
    "\n",
    "rf.save('/Users/ssong/Downloads/IRDM/RF_submission.csv')"
   ]
  },
  {
   "cell_type": "code",
   "execution_count": null,
   "metadata": {},
   "outputs": [],
   "source": [
    "rf_model.show()\n",
    "rf.show()"
   ]
  },
  {
   "cell_type": "markdown",
   "metadata": {},
   "source": [
    "## Decision Tree Model\n",
    "\n",
    "Kaggle RMSE: 0.888\n",
    "\n",
    "Validation RMSE: 1.419840"
   ]
  },
  {
   "cell_type": "code",
   "execution_count": 7,
   "metadata": {},
   "outputs": [
    {
     "name": "stdout",
     "output_type": "stream",
     "text": [
      "PROGRESS: Creating a validation set from 5 percent of training data. This may take a while.\n",
      "          You can set ``validation_set=None`` to disable validation tracking.\n",
      "\n"
     ]
    },
    {
     "data": {
      "text/html": [
       "<pre>Decision tree regression:</pre>"
      ],
      "text/plain": [
       "Decision tree regression:"
      ]
     },
     "metadata": {},
     "output_type": "display_data"
    },
    {
     "data": {
      "text/html": [
       "<pre>--------------------------------------------------------</pre>"
      ],
      "text/plain": [
       "--------------------------------------------------------"
      ]
     },
     "metadata": {},
     "output_type": "display_data"
    },
    {
     "data": {
      "text/html": [
       "<pre>Number of examples          : 70452</pre>"
      ],
      "text/plain": [
       "Number of examples          : 70452"
      ]
     },
     "metadata": {},
     "output_type": "display_data"
    },
    {
     "data": {
      "text/html": [
       "<pre>Number of features          : 4</pre>"
      ],
      "text/plain": [
       "Number of features          : 4"
      ]
     },
     "metadata": {},
     "output_type": "display_data"
    },
    {
     "data": {
      "text/html": [
       "<pre>Number of unpacked features : 4</pre>"
      ],
      "text/plain": [
       "Number of unpacked features : 4"
      ]
     },
     "metadata": {},
     "output_type": "display_data"
    },
    {
     "data": {
      "text/html": [
       "<pre>+-----------+--------------+--------------------+----------------------+---------------+-----------------+</pre>"
      ],
      "text/plain": [
       "+-----------+--------------+--------------------+----------------------+---------------+-----------------+"
      ]
     },
     "metadata": {},
     "output_type": "display_data"
    },
    {
     "data": {
      "text/html": [
       "<pre>| Iteration | Elapsed Time | Training-max_error | Validation-max_error | Training-rmse | Validation-rmse |</pre>"
      ],
      "text/plain": [
       "| Iteration | Elapsed Time | Training-max_error | Validation-max_error | Training-rmse | Validation-rmse |"
      ]
     },
     "metadata": {},
     "output_type": "display_data"
    },
    {
     "data": {
      "text/html": [
       "<pre>+-----------+--------------+--------------------+----------------------+---------------+-----------------+</pre>"
      ],
      "text/plain": [
       "+-----------+--------------+--------------------+----------------------+---------------+-----------------+"
      ]
     },
     "metadata": {},
     "output_type": "display_data"
    },
    {
     "data": {
      "text/html": [
       "<pre>| 1         | 0.051453     | 1.980632           | 1.980632             | 1.419309      | 1.426968        |</pre>"
      ],
      "text/plain": [
       "| 1         | 0.051453     | 1.980632           | 1.980632             | 1.419309      | 1.426968        |"
      ]
     },
     "metadata": {},
     "output_type": "display_data"
    },
    {
     "data": {
      "text/html": [
       "<pre>+-----------+--------------+--------------------+----------------------+---------------+-----------------+</pre>"
      ],
      "text/plain": [
       "+-----------+--------------+--------------------+----------------------+---------------+-----------------+"
      ]
     },
     "metadata": {},
     "output_type": "display_data"
    }
   ],
   "source": [
    "dt_model = gl.decision_tree_regression.create(df_train, target='relevance')\n",
    "dt_prediction = dt_model.predict(df_test)\n",
    "\n",
    "dt_pred = dt_prediction\n",
    "\n",
    "dt = gl.SFrame({'id':uid,\n",
    "            'relevance':dt_pred})\n",
    "\n",
    "dt.save('/Users/ssong/Downloads/IRDM/DT_submission.csv')"
   ]
  },
  {
   "cell_type": "code",
   "execution_count": null,
   "metadata": {
    "collapsed": true
   },
   "outputs": [],
   "source": [
    "dt_model.show()\n",
    "dt.show()"
   ]
  },
  {
   "cell_type": "markdown",
   "metadata": {},
   "source": [
    "## Boosted Trees Regression\n",
    "\n",
    "RMSE Kaggle: 0.52104\n",
    "\n",
    "Validation RMSE: 0.471525"
   ]
  },
  {
   "cell_type": "code",
   "execution_count": 11,
   "metadata": {},
   "outputs": [
    {
     "name": "stdout",
     "output_type": "stream",
     "text": [
      "PROGRESS: Creating a validation set from 5 percent of training data. This may take a while.\n",
      "          You can set ``validation_set=None`` to disable validation tracking.\n",
      "\n"
     ]
    },
    {
     "data": {
      "text/html": [
       "<pre>Boosted trees regression:</pre>"
      ],
      "text/plain": [
       "Boosted trees regression:"
      ]
     },
     "metadata": {},
     "output_type": "display_data"
    },
    {
     "data": {
      "text/html": [
       "<pre>--------------------------------------------------------</pre>"
      ],
      "text/plain": [
       "--------------------------------------------------------"
      ]
     },
     "metadata": {},
     "output_type": "display_data"
    },
    {
     "data": {
      "text/html": [
       "<pre>Number of examples          : 70409</pre>"
      ],
      "text/plain": [
       "Number of examples          : 70409"
      ]
     },
     "metadata": {},
     "output_type": "display_data"
    },
    {
     "data": {
      "text/html": [
       "<pre>Number of features          : 4</pre>"
      ],
      "text/plain": [
       "Number of features          : 4"
      ]
     },
     "metadata": {},
     "output_type": "display_data"
    },
    {
     "data": {
      "text/html": [
       "<pre>Number of unpacked features : 4</pre>"
      ],
      "text/plain": [
       "Number of unpacked features : 4"
      ]
     },
     "metadata": {},
     "output_type": "display_data"
    },
    {
     "data": {
      "text/html": [
       "<pre>+-----------+--------------+--------------------+----------------------+---------------+-----------------+</pre>"
      ],
      "text/plain": [
       "+-----------+--------------+--------------------+----------------------+---------------+-----------------+"
      ]
     },
     "metadata": {},
     "output_type": "display_data"
    },
    {
     "data": {
      "text/html": [
       "<pre>| Iteration | Elapsed Time | Training-max_error | Validation-max_error | Training-rmse | Validation-rmse |</pre>"
      ],
      "text/plain": [
       "| Iteration | Elapsed Time | Training-max_error | Validation-max_error | Training-rmse | Validation-rmse |"
      ]
     },
     "metadata": {},
     "output_type": "display_data"
    },
    {
     "data": {
      "text/html": [
       "<pre>+-----------+--------------+--------------------+----------------------+---------------+-----------------+</pre>"
      ],
      "text/plain": [
       "+-----------+--------------+--------------------+----------------------+---------------+-----------------+"
      ]
     },
     "metadata": {},
     "output_type": "display_data"
    },
    {
     "data": {
      "text/html": [
       "<pre>| 1         | 0.050361     | 2.340400           | 2.387500             | 1.419677      | 1.427265        |</pre>"
      ],
      "text/plain": [
       "| 1         | 0.050361     | 2.340400           | 2.387500             | 1.419677      | 1.427265        |"
      ]
     },
     "metadata": {},
     "output_type": "display_data"
    },
    {
     "data": {
      "text/html": [
       "<pre>| 2         | 0.100122     | 1.934495           | 1.981595             | 1.062806      | 1.068827        |</pre>"
      ],
      "text/plain": [
       "| 2         | 0.100122     | 1.934495           | 1.981595             | 1.062806      | 1.068827        |"
      ]
     },
     "metadata": {},
     "output_type": "display_data"
    },
    {
     "data": {
      "text/html": [
       "<pre>| 3         | 0.160027     | 1.656345           | 1.703445             | 0.831839      | 0.835826        |</pre>"
      ],
      "text/plain": [
       "| 3         | 0.160027     | 1.656345           | 1.703445             | 0.831839      | 0.835826        |"
      ]
     },
     "metadata": {},
     "output_type": "display_data"
    },
    {
     "data": {
      "text/html": [
       "<pre>| 4         | 0.211042     | 1.455993           | 1.503640             | 0.691717      | 0.693500        |</pre>"
      ],
      "text/plain": [
       "| 4         | 0.211042     | 1.455993           | 1.503640             | 0.691717      | 0.693500        |"
      ]
     },
     "metadata": {},
     "output_type": "display_data"
    },
    {
     "data": {
      "text/html": [
       "<pre>| 5         | 0.259501     | 1.315839           | 1.376827             | 0.611205      | 0.610654        |</pre>"
      ],
      "text/plain": [
       "| 5         | 0.259501     | 1.315839           | 1.376827             | 0.611205      | 0.610654        |"
      ]
     },
     "metadata": {},
     "output_type": "display_data"
    },
    {
     "data": {
      "text/html": [
       "<pre>| 6         | 0.300344     | 1.242640           | 1.289970             | 0.568025      | 0.565532        |</pre>"
      ],
      "text/plain": [
       "| 6         | 0.300344     | 1.242640           | 1.289970             | 0.568025      | 0.565532        |"
      ]
     },
     "metadata": {},
     "output_type": "display_data"
    },
    {
     "data": {
      "text/html": [
       "<pre>| 11        | 0.532706     | 1.404271           | 1.404271             | 0.523306      | 0.517167        |</pre>"
      ],
      "text/plain": [
       "| 11        | 0.532706     | 1.404271           | 1.404271             | 0.523306      | 0.517167        |"
      ]
     },
     "metadata": {},
     "output_type": "display_data"
    },
    {
     "data": {
      "text/html": [
       "<pre>| 25        | 1.199615     | 1.446901           | 1.446901             | 0.518409      | 0.513382        |</pre>"
      ],
      "text/plain": [
       "| 25        | 1.199615     | 1.446901           | 1.446901             | 0.518409      | 0.513382        |"
      ]
     },
     "metadata": {},
     "output_type": "display_data"
    },
    {
     "data": {
      "text/html": [
       "<pre>| 50        | 2.286005     | 1.556343           | 1.462645             | 0.513479      | 0.509942        |</pre>"
      ],
      "text/plain": [
       "| 50        | 2.286005     | 1.556343           | 1.462645             | 0.513479      | 0.509942        |"
      ]
     },
     "metadata": {},
     "output_type": "display_data"
    },
    {
     "data": {
      "text/html": [
       "<pre>| 51        | 2.331423     | 1.556896           | 1.463198             | 0.513299      | 0.510109        |</pre>"
      ],
      "text/plain": [
       "| 51        | 2.331423     | 1.556896           | 1.463198             | 0.513299      | 0.510109        |"
      ]
     },
     "metadata": {},
     "output_type": "display_data"
    },
    {
     "data": {
      "text/html": [
       "<pre>| 75        | 3.293052     | 1.458484           | 1.469848             | 0.509272      | 0.509227        |</pre>"
      ],
      "text/plain": [
       "| 75        | 3.293052     | 1.458484           | 1.469848             | 0.509272      | 0.509227        |"
      ]
     },
     "metadata": {},
     "output_type": "display_data"
    },
    {
     "data": {
      "text/html": [
       "<pre>| 100       | 4.333306     | 1.463829           | 1.475194             | 0.505597      | 0.507747        |</pre>"
      ],
      "text/plain": [
       "| 100       | 4.333306     | 1.463829           | 1.475194             | 0.505597      | 0.507747        |"
      ]
     },
     "metadata": {},
     "output_type": "display_data"
    },
    {
     "data": {
      "text/html": [
       "<pre>| 101       | 4.377635     | 1.464541           | 1.475906             | 0.505476      | 0.507720        |</pre>"
      ],
      "text/plain": [
       "| 101       | 4.377635     | 1.464541           | 1.475906             | 0.505476      | 0.507720        |"
      ]
     },
     "metadata": {},
     "output_type": "display_data"
    },
    {
     "data": {
      "text/html": [
       "<pre>| 125       | 5.357062     | 1.465940           | 1.477304             | 0.502144      | 0.506744        |</pre>"
      ],
      "text/plain": [
       "| 125       | 5.357062     | 1.465940           | 1.477304             | 0.502144      | 0.506744        |"
      ]
     },
     "metadata": {},
     "output_type": "display_data"
    },
    {
     "data": {
      "text/html": [
       "<pre>| 150       | 6.371537     | 1.468610           | 1.468610             | 0.499106      | 0.506321        |</pre>"
      ],
      "text/plain": [
       "| 150       | 6.371537     | 1.468610           | 1.468610             | 0.499106      | 0.506321        |"
      ]
     },
     "metadata": {},
     "output_type": "display_data"
    },
    {
     "data": {
      "text/html": [
       "<pre>| 175       | 7.374198     | 1.474514           | 1.474514             | 0.496140      | 0.504093        |</pre>"
      ],
      "text/plain": [
       "| 175       | 7.374198     | 1.474514           | 1.474514             | 0.496140      | 0.504093        |"
      ]
     },
     "metadata": {},
     "output_type": "display_data"
    },
    {
     "data": {
      "text/html": [
       "<pre>| 200       | 8.386062     | 1.481920           | 1.481920             | 0.493418      | 0.502594        |</pre>"
      ],
      "text/plain": [
       "| 200       | 8.386062     | 1.481920           | 1.481920             | 0.493418      | 0.502594        |"
      ]
     },
     "metadata": {},
     "output_type": "display_data"
    },
    {
     "data": {
      "text/html": [
       "<pre>| 225       | 9.391420     | 1.482635           | 1.482635             | 0.491013      | 0.501385        |</pre>"
      ],
      "text/plain": [
       "| 225       | 9.391420     | 1.482635           | 1.482635             | 0.491013      | 0.501385        |"
      ]
     },
     "metadata": {},
     "output_type": "display_data"
    },
    {
     "data": {
      "text/html": [
       "<pre>| 250       | 10.427439    | 1.486272           | 1.486272             | 0.488706      | 0.499892        |</pre>"
      ],
      "text/plain": [
       "| 250       | 10.427439    | 1.486272           | 1.486272             | 0.488706      | 0.499892        |"
      ]
     },
     "metadata": {},
     "output_type": "display_data"
    },
    {
     "data": {
      "text/html": [
       "<pre>| 275       | 11.492467    | 1.488985           | 1.518807             | 0.486592      | 0.499810        |</pre>"
      ],
      "text/plain": [
       "| 275       | 11.492467    | 1.488985           | 1.518807             | 0.486592      | 0.499810        |"
      ]
     },
     "metadata": {},
     "output_type": "display_data"
    },
    {
     "data": {
      "text/html": [
       "<pre>| 300       | 12.480463    | 1.491204           | 1.521028             | 0.484490      | 0.498933        |</pre>"
      ],
      "text/plain": [
       "| 300       | 12.480463    | 1.491204           | 1.521028             | 0.484490      | 0.498933        |"
      ]
     },
     "metadata": {},
     "output_type": "display_data"
    },
    {
     "data": {
      "text/html": [
       "<pre>| 325       | 13.480811    | 1.647278           | 1.526567             | 0.482551      | 0.498658        |</pre>"
      ],
      "text/plain": [
       "| 325       | 13.480811    | 1.647278           | 1.526567             | 0.482551      | 0.498658        |"
      ]
     },
     "metadata": {},
     "output_type": "display_data"
    },
    {
     "data": {
      "text/html": [
       "<pre>| 350       | 14.487628    | 1.644626           | 1.523915             | 0.480578      | 0.497739        |</pre>"
      ],
      "text/plain": [
       "| 350       | 14.487628    | 1.644626           | 1.523915             | 0.480578      | 0.497739        |"
      ]
     },
     "metadata": {},
     "output_type": "display_data"
    },
    {
     "data": {
      "text/html": [
       "<pre>| 375       | 15.485862    | 1.647863           | 1.537325             | 0.478622      | 0.496822        |</pre>"
      ],
      "text/plain": [
       "| 375       | 15.485862    | 1.647863           | 1.537325             | 0.478622      | 0.496822        |"
      ]
     },
     "metadata": {},
     "output_type": "display_data"
    },
    {
     "data": {
      "text/html": [
       "<pre>| 400       | 16.490123    | 1.648745           | 1.542483             | 0.476873      | 0.495686        |</pre>"
      ],
      "text/plain": [
       "| 400       | 16.490123    | 1.648745           | 1.542483             | 0.476873      | 0.495686        |"
      ]
     },
     "metadata": {},
     "output_type": "display_data"
    },
    {
     "data": {
      "text/html": [
       "<pre>| 425       | 17.492921    | 1.650999           | 1.544737             | 0.475329      | 0.494440        |</pre>"
      ],
      "text/plain": [
       "| 425       | 17.492921    | 1.650999           | 1.544737             | 0.475329      | 0.494440        |"
      ]
     },
     "metadata": {},
     "output_type": "display_data"
    },
    {
     "data": {
      "text/html": [
       "<pre>| 450       | 18.494232    | 1.650746           | 1.536319             | 0.473663      | 0.494065        |</pre>"
      ],
      "text/plain": [
       "| 450       | 18.494232    | 1.650746           | 1.536319             | 0.473663      | 0.494065        |"
      ]
     },
     "metadata": {},
     "output_type": "display_data"
    },
    {
     "data": {
      "text/html": [
       "<pre>| 475       | 19.511088    | 1.650980           | 1.540870             | 0.471994      | 0.493345        |</pre>"
      ],
      "text/plain": [
       "| 475       | 19.511088    | 1.650980           | 1.540870             | 0.471994      | 0.493345        |"
      ]
     },
     "metadata": {},
     "output_type": "display_data"
    },
    {
     "data": {
      "text/html": [
       "<pre>| 500       | 20.516556    | 1.656103           | 1.545993             | 0.470683      | 0.492402        |</pre>"
      ],
      "text/plain": [
       "| 500       | 20.516556    | 1.656103           | 1.545993             | 0.470683      | 0.492402        |"
      ]
     },
     "metadata": {},
     "output_type": "display_data"
    },
    {
     "data": {
      "text/html": [
       "<pre>| 501       | 20.558341    | 1.654998           | 1.544888             | 0.470624      | 0.492599        |</pre>"
      ],
      "text/plain": [
       "| 501       | 20.558341    | 1.654998           | 1.544888             | 0.470624      | 0.492599        |"
      ]
     },
     "metadata": {},
     "output_type": "display_data"
    },
    {
     "data": {
      "text/html": [
       "<pre>| 525       | 21.520868    | 1.654338           | 1.544228             | 0.469342      | 0.491731        |</pre>"
      ],
      "text/plain": [
       "| 525       | 21.520868    | 1.654338           | 1.544228             | 0.469342      | 0.491731        |"
      ]
     },
     "metadata": {},
     "output_type": "display_data"
    },
    {
     "data": {
      "text/html": [
       "<pre>| 550       | 22.554700    | 1.659448           | 1.542696             | 0.468026      | 0.491604        |</pre>"
      ],
      "text/plain": [
       "| 550       | 22.554700    | 1.659448           | 1.542696             | 0.468026      | 0.491604        |"
      ]
     },
     "metadata": {},
     "output_type": "display_data"
    },
    {
     "data": {
      "text/html": [
       "<pre>| 575       | 23.594863    | 1.543114           | 1.547844             | 0.466534      | 0.490936        |</pre>"
      ],
      "text/plain": [
       "| 575       | 23.594863    | 1.543114           | 1.547844             | 0.466534      | 0.490936        |"
      ]
     },
     "metadata": {},
     "output_type": "display_data"
    },
    {
     "data": {
      "text/html": [
       "<pre>| 600       | 24.661469    | 1.547008           | 1.551561             | 0.465167      | 0.489798        |</pre>"
      ],
      "text/plain": [
       "| 600       | 24.661469    | 1.547008           | 1.551561             | 0.465167      | 0.489798        |"
      ]
     },
     "metadata": {},
     "output_type": "display_data"
    },
    {
     "data": {
      "text/html": [
       "<pre>| 625       | 25.734010    | 1.547101           | 1.551655             | 0.463943      | 0.489959        |</pre>"
      ],
      "text/plain": [
       "| 625       | 25.734010    | 1.547101           | 1.551655             | 0.463943      | 0.489959        |"
      ]
     },
     "metadata": {},
     "output_type": "display_data"
    },
    {
     "data": {
      "text/html": [
       "<pre>| 650       | 26.736925    | 1.556828           | 1.547996             | 0.462694      | 0.489674        |</pre>"
      ],
      "text/plain": [
       "| 650       | 26.736925    | 1.556828           | 1.547996             | 0.462694      | 0.489674        |"
      ]
     },
     "metadata": {},
     "output_type": "display_data"
    },
    {
     "data": {
      "text/html": [
       "<pre>| 675       | 27.784386    | 1.557162           | 1.562309             | 0.461658      | 0.489135        |</pre>"
      ],
      "text/plain": [
       "| 675       | 27.784386    | 1.557162           | 1.562309             | 0.461658      | 0.489135        |"
      ]
     },
     "metadata": {},
     "output_type": "display_data"
    },
    {
     "data": {
      "text/html": [
       "<pre>| 700       | 28.807600    | 1.554867           | 1.559977             | 0.460626      | 0.488707        |</pre>"
      ],
      "text/plain": [
       "| 700       | 28.807600    | 1.554867           | 1.559977             | 0.460626      | 0.488707        |"
      ]
     },
     "metadata": {},
     "output_type": "display_data"
    },
    {
     "data": {
      "text/html": [
       "<pre>| 725       | 29.799716    | 1.563710           | 1.563710             | 0.459567      | 0.489116        |</pre>"
      ],
      "text/plain": [
       "| 725       | 29.799716    | 1.563710           | 1.563710             | 0.459567      | 0.489116        |"
      ]
     },
     "metadata": {},
     "output_type": "display_data"
    },
    {
     "data": {
      "text/html": [
       "<pre>| 750       | 30.903752    | 1.566313           | 1.566313             | 0.458638      | 0.488586        |</pre>"
      ],
      "text/plain": [
       "| 750       | 30.903752    | 1.566313           | 1.566313             | 0.458638      | 0.488586        |"
      ]
     },
     "metadata": {},
     "output_type": "display_data"
    },
    {
     "data": {
      "text/html": [
       "<pre>| 775       | 32.054209    | 1.569291           | 1.569291             | 0.457703      | 0.488671        |</pre>"
      ],
      "text/plain": [
       "| 775       | 32.054209    | 1.569291           | 1.569291             | 0.457703      | 0.488671        |"
      ]
     },
     "metadata": {},
     "output_type": "display_data"
    },
    {
     "data": {
      "text/html": [
       "<pre>| 800       | 33.176867    | 1.569041           | 1.569041             | 0.456733      | 0.488905        |</pre>"
      ],
      "text/plain": [
       "| 800       | 33.176867    | 1.569041           | 1.569041             | 0.456733      | 0.488905        |"
      ]
     },
     "metadata": {},
     "output_type": "display_data"
    },
    {
     "data": {
      "text/html": [
       "<pre>| 825       | 34.299394    | 1.569579           | 1.569579             | 0.455819      | 0.488749        |</pre>"
      ],
      "text/plain": [
       "| 825       | 34.299394    | 1.569579           | 1.569579             | 0.455819      | 0.488749        |"
      ]
     },
     "metadata": {},
     "output_type": "display_data"
    },
    {
     "data": {
      "text/html": [
       "<pre>| 850       | 35.337355    | 1.571538           | 1.571538             | 0.455012      | 0.488796        |</pre>"
      ],
      "text/plain": [
       "| 850       | 35.337355    | 1.571538           | 1.571538             | 0.455012      | 0.488796        |"
      ]
     },
     "metadata": {},
     "output_type": "display_data"
    },
    {
     "data": {
      "text/html": [
       "<pre>| 875       | 36.525929    | 1.564808           | 1.564808             | 0.454204      | 0.488767        |</pre>"
      ],
      "text/plain": [
       "| 875       | 36.525929    | 1.564808           | 1.564808             | 0.454204      | 0.488767        |"
      ]
     },
     "metadata": {},
     "output_type": "display_data"
    },
    {
     "data": {
      "text/html": [
       "<pre>| 900       | 37.615774    | 1.567236           | 1.567236             | 0.453344      | 0.488407        |</pre>"
      ],
      "text/plain": [
       "| 900       | 37.615774    | 1.567236           | 1.567236             | 0.453344      | 0.488407        |"
      ]
     },
     "metadata": {},
     "output_type": "display_data"
    },
    {
     "data": {
      "text/html": [
       "<pre>| 925       | 38.776818    | 1.550256           | 1.570190             | 0.452512      | 0.487916        |</pre>"
      ],
      "text/plain": [
       "| 925       | 38.776818    | 1.550256           | 1.570190             | 0.452512      | 0.487916        |"
      ]
     },
     "metadata": {},
     "output_type": "display_data"
    },
    {
     "data": {
      "text/html": [
       "<pre>| 950       | 39.905597    | 1.546021           | 1.692415             | 0.451702      | 0.487837        |</pre>"
      ],
      "text/plain": [
       "| 950       | 39.905597    | 1.546021           | 1.692415             | 0.451702      | 0.487837        |"
      ]
     },
     "metadata": {},
     "output_type": "display_data"
    },
    {
     "data": {
      "text/html": [
       "<pre>| 975       | 40.942785    | 1.546453           | 1.683111             | 0.450937      | 0.487627        |</pre>"
      ],
      "text/plain": [
       "| 975       | 40.942785    | 1.546453           | 1.683111             | 0.450937      | 0.487627        |"
      ]
     },
     "metadata": {},
     "output_type": "display_data"
    },
    {
     "data": {
      "text/html": [
       "<pre>| 1000      | 41.969630    | 1.547796           | 1.704257             | 0.450055      | 0.486549        |</pre>"
      ],
      "text/plain": [
       "| 1000      | 41.969630    | 1.547796           | 1.704257             | 0.450055      | 0.486549        |"
      ]
     },
     "metadata": {},
     "output_type": "display_data"
    },
    {
     "data": {
      "text/html": [
       "<pre>| 1001      | 42.012489    | 1.548378           | 1.704839             | 0.450034      | 0.486549        |</pre>"
      ],
      "text/plain": [
       "| 1001      | 42.012489    | 1.548378           | 1.704839             | 0.450034      | 0.486549        |"
      ]
     },
     "metadata": {},
     "output_type": "display_data"
    },
    {
     "data": {
      "text/html": [
       "<pre>| 1025      | 43.019766    | 1.536676           | 1.709737             | 0.449494      | 0.486856        |</pre>"
      ],
      "text/plain": [
       "| 1025      | 43.019766    | 1.536676           | 1.709737             | 0.449494      | 0.486856        |"
      ]
     },
     "metadata": {},
     "output_type": "display_data"
    },
    {
     "data": {
      "text/html": [
       "<pre>| 1050      | 44.021696    | 1.538827           | 1.702459             | 0.448984      | 0.486579        |</pre>"
      ],
      "text/plain": [
       "| 1050      | 44.021696    | 1.538827           | 1.702459             | 0.448984      | 0.486579        |"
      ]
     },
     "metadata": {},
     "output_type": "display_data"
    },
    {
     "data": {
      "text/html": [
       "<pre>| 1075      | 45.153550    | 1.526875           | 1.704762             | 0.448359      | 0.485940        |</pre>"
      ],
      "text/plain": [
       "| 1075      | 45.153550    | 1.526875           | 1.704762             | 0.448359      | 0.485940        |"
      ]
     },
     "metadata": {},
     "output_type": "display_data"
    },
    {
     "data": {
      "text/html": [
       "<pre>| 1100      | 46.265362    | 1.524686           | 1.703246             | 0.447839      | 0.486011        |</pre>"
      ],
      "text/plain": [
       "| 1100      | 46.265362    | 1.524686           | 1.703246             | 0.447839      | 0.486011        |"
      ]
     },
     "metadata": {},
     "output_type": "display_data"
    },
    {
     "data": {
      "text/html": [
       "<pre>| 1125      | 47.312363    | 1.527910           | 1.696194             | 0.447354      | 0.485356        |</pre>"
      ],
      "text/plain": [
       "| 1125      | 47.312363    | 1.527910           | 1.696194             | 0.447354      | 0.485356        |"
      ]
     },
     "metadata": {},
     "output_type": "display_data"
    },
    {
     "data": {
      "text/html": [
       "<pre>| 1150      | 48.357510    | 1.525639           | 1.706297             | 0.446571      | 0.485425        |</pre>"
      ],
      "text/plain": [
       "| 1150      | 48.357510    | 1.525639           | 1.706297             | 0.446571      | 0.485425        |"
      ]
     },
     "metadata": {},
     "output_type": "display_data"
    },
    {
     "data": {
      "text/html": [
       "<pre>| 1175      | 49.437911    | 1.571003           | 1.705307             | 0.446032      | 0.485389        |</pre>"
      ],
      "text/plain": [
       "| 1175      | 49.437911    | 1.571003           | 1.705307             | 0.446032      | 0.485389        |"
      ]
     },
     "metadata": {},
     "output_type": "display_data"
    },
    {
     "data": {
      "text/html": [
       "<pre>| 1200      | 50.477055    | 1.508261           | 1.705404             | 0.445478      | 0.485461        |</pre>"
      ],
      "text/plain": [
       "| 1200      | 50.477055    | 1.508261           | 1.705404             | 0.445478      | 0.485461        |"
      ]
     },
     "metadata": {},
     "output_type": "display_data"
    },
    {
     "data": {
      "text/html": [
       "<pre>| 1225      | 51.486488    | 1.509480           | 1.696711             | 0.444833      | 0.484952        |</pre>"
      ],
      "text/plain": [
       "| 1225      | 51.486488    | 1.509480           | 1.696711             | 0.444833      | 0.484952        |"
      ]
     },
     "metadata": {},
     "output_type": "display_data"
    },
    {
     "data": {
      "text/html": [
       "<pre>| 1250      | 52.475852    | 1.498425           | 1.697197             | 0.444101      | 0.484639        |</pre>"
      ],
      "text/plain": [
       "| 1250      | 52.475852    | 1.498425           | 1.697197             | 0.444101      | 0.484639        |"
      ]
     },
     "metadata": {},
     "output_type": "display_data"
    },
    {
     "data": {
      "text/html": [
       "<pre>| 1275      | 53.476160    | 1.461464           | 1.696361             | 0.443474      | 0.484530        |</pre>"
      ],
      "text/plain": [
       "| 1275      | 53.476160    | 1.461464           | 1.696361             | 0.443474      | 0.484530        |"
      ]
     },
     "metadata": {},
     "output_type": "display_data"
    },
    {
     "data": {
      "text/html": [
       "<pre>| 1300      | 54.502888    | 1.469429           | 1.686143             | 0.442970      | 0.484650        |</pre>"
      ],
      "text/plain": [
       "| 1300      | 54.502888    | 1.469429           | 1.686143             | 0.442970      | 0.484650        |"
      ]
     },
     "metadata": {},
     "output_type": "display_data"
    },
    {
     "data": {
      "text/html": [
       "<pre>| 1325      | 55.491177    | 1.471302           | 1.698390             | 0.442591      | 0.484156        |</pre>"
      ],
      "text/plain": [
       "| 1325      | 55.491177    | 1.471302           | 1.698390             | 0.442591      | 0.484156        |"
      ]
     },
     "metadata": {},
     "output_type": "display_data"
    },
    {
     "data": {
      "text/html": [
       "<pre>| 1350      | 56.577256    | 1.478927           | 1.692742             | 0.441878      | 0.484419        |</pre>"
      ],
      "text/plain": [
       "| 1350      | 56.577256    | 1.478927           | 1.692742             | 0.441878      | 0.484419        |"
      ]
     },
     "metadata": {},
     "output_type": "display_data"
    },
    {
     "data": {
      "text/html": [
       "<pre>| 1375      | 57.576867    | 1.462968           | 1.698268             | 0.441345      | 0.484857        |</pre>"
      ],
      "text/plain": [
       "| 1375      | 57.576867    | 1.462968           | 1.698268             | 0.441345      | 0.484857        |"
      ]
     },
     "metadata": {},
     "output_type": "display_data"
    },
    {
     "data": {
      "text/html": [
       "<pre>| 1400      | 58.588231    | 1.403217           | 1.687639             | 0.440670      | 0.484320        |</pre>"
      ],
      "text/plain": [
       "| 1400      | 58.588231    | 1.403217           | 1.687639             | 0.440670      | 0.484320        |"
      ]
     },
     "metadata": {},
     "output_type": "display_data"
    },
    {
     "data": {
      "text/html": [
       "<pre>| 1425      | 59.621871    | 1.434466           | 1.686947             | 0.440200      | 0.484366        |</pre>"
      ],
      "text/plain": [
       "| 1425      | 59.621871    | 1.434466           | 1.686947             | 0.440200      | 0.484366        |"
      ]
     },
     "metadata": {},
     "output_type": "display_data"
    },
    {
     "data": {
      "text/html": [
       "<pre>| 1450      | 60.608331    | 1.435343           | 1.687595             | 0.439724      | 0.484616        |</pre>"
      ],
      "text/plain": [
       "| 1450      | 60.608331    | 1.435343           | 1.687595             | 0.439724      | 0.484616        |"
      ]
     },
     "metadata": {},
     "output_type": "display_data"
    },
    {
     "data": {
      "text/html": [
       "<pre>| 1475      | 61.618665    | 1.434619           | 1.698695             | 0.439234      | 0.485188        |</pre>"
      ],
      "text/plain": [
       "| 1475      | 61.618665    | 1.434619           | 1.698695             | 0.439234      | 0.485188        |"
      ]
     },
     "metadata": {},
     "output_type": "display_data"
    },
    {
     "data": {
      "text/html": [
       "<pre>| 1500      | 62.624566    | 1.437693           | 1.699817             | 0.438674      | 0.485234        |</pre>"
      ],
      "text/plain": [
       "| 1500      | 62.624566    | 1.437693           | 1.699817             | 0.438674      | 0.485234        |"
      ]
     },
     "metadata": {},
     "output_type": "display_data"
    },
    {
     "data": {
      "text/html": [
       "<pre>| 1525      | 63.628354    | 1.429486           | 1.710069             | 0.438156      | 0.485109        |</pre>"
      ],
      "text/plain": [
       "| 1525      | 63.628354    | 1.429486           | 1.710069             | 0.438156      | 0.485109        |"
      ]
     },
     "metadata": {},
     "output_type": "display_data"
    },
    {
     "data": {
      "text/html": [
       "<pre>| 1550      | 64.639293    | 1.466384           | 1.705952             | 0.437760      | 0.485340        |</pre>"
      ],
      "text/plain": [
       "| 1550      | 64.639293    | 1.466384           | 1.705952             | 0.437760      | 0.485340        |"
      ]
     },
     "metadata": {},
     "output_type": "display_data"
    },
    {
     "data": {
      "text/html": [
       "<pre>| 1575      | 65.646599    | 1.399012           | 1.704707             | 0.437175      | 0.485515        |</pre>"
      ],
      "text/plain": [
       "| 1575      | 65.646599    | 1.399012           | 1.704707             | 0.437175      | 0.485515        |"
      ]
     },
     "metadata": {},
     "output_type": "display_data"
    },
    {
     "data": {
      "text/html": [
       "<pre>| 1600      | 66.648350    | 1.404790           | 1.707611             | 0.436765      | 0.485857        |</pre>"
      ],
      "text/plain": [
       "| 1600      | 66.648350    | 1.404790           | 1.707611             | 0.436765      | 0.485857        |"
      ]
     },
     "metadata": {},
     "output_type": "display_data"
    },
    {
     "data": {
      "text/html": [
       "<pre>| 1625      | 67.704536    | 1.405123           | 1.707943             | 0.436399      | 0.485799        |</pre>"
      ],
      "text/plain": [
       "| 1625      | 67.704536    | 1.405123           | 1.707943             | 0.436399      | 0.485799        |"
      ]
     },
     "metadata": {},
     "output_type": "display_data"
    },
    {
     "data": {
      "text/html": [
       "<pre>| 1650      | 68.737604    | 1.411294           | 1.714659             | 0.436063      | 0.486026        |</pre>"
      ],
      "text/plain": [
       "| 1650      | 68.737604    | 1.411294           | 1.714659             | 0.436063      | 0.486026        |"
      ]
     },
     "metadata": {},
     "output_type": "display_data"
    },
    {
     "data": {
      "text/html": [
       "<pre>| 1675      | 69.757476    | 1.413570           | 1.704101             | 0.435730      | 0.486436        |</pre>"
      ],
      "text/plain": [
       "| 1675      | 69.757476    | 1.413570           | 1.704101             | 0.435730      | 0.486436        |"
      ]
     },
     "metadata": {},
     "output_type": "display_data"
    },
    {
     "data": {
      "text/html": [
       "<pre>| 1700      | 70.759969    | 1.409070           | 1.707336             | 0.435311      | 0.486332        |</pre>"
      ],
      "text/plain": [
       "| 1700      | 70.759969    | 1.409070           | 1.707336             | 0.435311      | 0.486332        |"
      ]
     },
     "metadata": {},
     "output_type": "display_data"
    },
    {
     "data": {
      "text/html": [
       "<pre>| 1725      | 71.761780    | 1.411253           | 1.703969             | 0.434883      | 0.486323        |</pre>"
      ],
      "text/plain": [
       "| 1725      | 71.761780    | 1.411253           | 1.703969             | 0.434883      | 0.486323        |"
      ]
     },
     "metadata": {},
     "output_type": "display_data"
    },
    {
     "data": {
      "text/html": [
       "<pre>| 1750      | 72.798735    | 1.410619           | 1.701817             | 0.434584      | 0.485768        |</pre>"
      ],
      "text/plain": [
       "| 1750      | 72.798735    | 1.410619           | 1.701817             | 0.434584      | 0.485768        |"
      ]
     },
     "metadata": {},
     "output_type": "display_data"
    },
    {
     "data": {
      "text/html": [
       "<pre>| 1775      | 73.856152    | 1.381433           | 1.694466             | 0.434025      | 0.486016        |</pre>"
      ],
      "text/plain": [
       "| 1775      | 73.856152    | 1.381433           | 1.694466             | 0.434025      | 0.486016        |"
      ]
     },
     "metadata": {},
     "output_type": "display_data"
    },
    {
     "data": {
      "text/html": [
       "<pre>| 1800      | 74.979548    | 1.396750           | 1.693378             | 0.433631      | 0.486410        |</pre>"
      ],
      "text/plain": [
       "| 1800      | 74.979548    | 1.396750           | 1.693378             | 0.433631      | 0.486410        |"
      ]
     },
     "metadata": {},
     "output_type": "display_data"
    },
    {
     "data": {
      "text/html": [
       "<pre>| 1825      | 76.089934    | 1.380661           | 1.699142             | 0.433186      | 0.486133        |</pre>"
      ],
      "text/plain": [
       "| 1825      | 76.089934    | 1.380661           | 1.699142             | 0.433186      | 0.486133        |"
      ]
     },
     "metadata": {},
     "output_type": "display_data"
    },
    {
     "data": {
      "text/html": [
       "<pre>| 1850      | 77.128648    | 1.401615           | 1.698851             | 0.432888      | 0.485606        |</pre>"
      ],
      "text/plain": [
       "| 1850      | 77.128648    | 1.401615           | 1.698851             | 0.432888      | 0.485606        |"
      ]
     },
     "metadata": {},
     "output_type": "display_data"
    },
    {
     "data": {
      "text/html": [
       "<pre>| 1875      | 78.136356    | 1.403573           | 1.696404             | 0.432564      | 0.485688        |</pre>"
      ],
      "text/plain": [
       "| 1875      | 78.136356    | 1.403573           | 1.696404             | 0.432564      | 0.485688        |"
      ]
     },
     "metadata": {},
     "output_type": "display_data"
    },
    {
     "data": {
      "text/html": [
       "<pre>| 1900      | 79.128972    | 1.508273           | 1.695344             | 0.432359      | 0.485497        |</pre>"
      ],
      "text/plain": [
       "| 1900      | 79.128972    | 1.508273           | 1.695344             | 0.432359      | 0.485497        |"
      ]
     },
     "metadata": {},
     "output_type": "display_data"
    },
    {
     "data": {
      "text/html": [
       "<pre>| 1925      | 80.134839    | 1.508879           | 1.695950             | 0.431968      | 0.485278        |</pre>"
      ],
      "text/plain": [
       "| 1925      | 80.134839    | 1.508879           | 1.695950             | 0.431968      | 0.485278        |"
      ]
     },
     "metadata": {},
     "output_type": "display_data"
    },
    {
     "data": {
      "text/html": [
       "<pre>| 1950      | 81.129317    | 1.509430           | 1.696501             | 0.431597      | 0.485896        |</pre>"
      ],
      "text/plain": [
       "| 1950      | 81.129317    | 1.509430           | 1.696501             | 0.431597      | 0.485896        |"
      ]
     },
     "metadata": {},
     "output_type": "display_data"
    },
    {
     "data": {
      "text/html": [
       "<pre>| 1975      | 82.148020    | 1.460310           | 1.703708             | 0.431223      | 0.485941        |</pre>"
      ],
      "text/plain": [
       "| 1975      | 82.148020    | 1.460310           | 1.703708             | 0.431223      | 0.485941        |"
      ]
     },
     "metadata": {},
     "output_type": "display_data"
    },
    {
     "data": {
      "text/html": [
       "<pre>| 2000      | 83.157027    | 1.444012           | 1.699588             | 0.430874      | 0.486361        |</pre>"
      ],
      "text/plain": [
       "| 2000      | 83.157027    | 1.444012           | 1.699588             | 0.430874      | 0.486361        |"
      ]
     },
     "metadata": {},
     "output_type": "display_data"
    },
    {
     "data": {
      "text/html": [
       "<pre>| 2025      | 84.184585    | 1.402293           | 1.704653             | 0.430464      | 0.486482        |</pre>"
      ],
      "text/plain": [
       "| 2025      | 84.184585    | 1.402293           | 1.704653             | 0.430464      | 0.486482        |"
      ]
     },
     "metadata": {},
     "output_type": "display_data"
    },
    {
     "data": {
      "text/html": [
       "<pre>| 2050      | 85.190191    | 1.399292           | 1.690959             | 0.430057      | 0.486416        |</pre>"
      ],
      "text/plain": [
       "| 2050      | 85.190191    | 1.399292           | 1.690959             | 0.430057      | 0.486416        |"
      ]
     },
     "metadata": {},
     "output_type": "display_data"
    },
    {
     "data": {
      "text/html": [
       "<pre>| 2075      | 86.200235    | 1.397947           | 1.691789             | 0.429784      | 0.486116        |</pre>"
      ],
      "text/plain": [
       "| 2075      | 86.200235    | 1.397947           | 1.691789             | 0.429784      | 0.486116        |"
      ]
     },
     "metadata": {},
     "output_type": "display_data"
    },
    {
     "data": {
      "text/html": [
       "<pre>| 2100      | 87.224288    | 1.381048           | 1.692172             | 0.429467      | 0.486117        |</pre>"
      ],
      "text/plain": [
       "| 2100      | 87.224288    | 1.381048           | 1.692172             | 0.429467      | 0.486117        |"
      ]
     },
     "metadata": {},
     "output_type": "display_data"
    },
    {
     "data": {
      "text/html": [
       "<pre>| 2125      | 88.228570    | 1.387544           | 1.709460             | 0.428891      | 0.486162        |</pre>"
      ],
      "text/plain": [
       "| 2125      | 88.228570    | 1.387544           | 1.709460             | 0.428891      | 0.486162        |"
      ]
     },
     "metadata": {},
     "output_type": "display_data"
    },
    {
     "data": {
      "text/html": [
       "<pre>| 2150      | 89.214682    | 1.403526           | 1.705158             | 0.428527      | 0.485660        |</pre>"
      ],
      "text/plain": [
       "| 2150      | 89.214682    | 1.403526           | 1.705158             | 0.428527      | 0.485660        |"
      ]
     },
     "metadata": {},
     "output_type": "display_data"
    },
    {
     "data": {
      "text/html": [
       "<pre>| 2175      | 90.228794    | 1.505275           | 1.705053             | 0.428136      | 0.485961        |</pre>"
      ],
      "text/plain": [
       "| 2175      | 90.228794    | 1.505275           | 1.705053             | 0.428136      | 0.485961        |"
      ]
     },
     "metadata": {},
     "output_type": "display_data"
    },
    {
     "data": {
      "text/html": [
       "<pre>| 2200      | 91.283496    | 1.382290           | 1.644776             | 0.427689      | 0.485249        |</pre>"
      ],
      "text/plain": [
       "| 2200      | 91.283496    | 1.382290           | 1.644776             | 0.427689      | 0.485249        |"
      ]
     },
     "metadata": {},
     "output_type": "display_data"
    },
    {
     "data": {
      "text/html": [
       "<pre>| 2225      | 92.348267    | 1.449250           | 1.648196             | 0.427297      | 0.485218        |</pre>"
      ],
      "text/plain": [
       "| 2225      | 92.348267    | 1.449250           | 1.648196             | 0.427297      | 0.485218        |"
      ]
     },
     "metadata": {},
     "output_type": "display_data"
    },
    {
     "data": {
      "text/html": [
       "<pre>| 2250      | 93.382248    | 1.367260           | 1.646501             | 0.426935      | 0.485082        |</pre>"
      ],
      "text/plain": [
       "| 2250      | 93.382248    | 1.367260           | 1.646501             | 0.426935      | 0.485082        |"
      ]
     },
     "metadata": {},
     "output_type": "display_data"
    },
    {
     "data": {
      "text/html": [
       "<pre>| 2275      | 94.381044    | 1.369044           | 1.648038             | 0.426580      | 0.485604        |</pre>"
      ],
      "text/plain": [
       "| 2275      | 94.381044    | 1.369044           | 1.648038             | 0.426580      | 0.485604        |"
      ]
     },
     "metadata": {},
     "output_type": "display_data"
    },
    {
     "data": {
      "text/html": [
       "<pre>| 2300      | 95.380250    | 1.462634           | 1.647787             | 0.426181      | 0.485292        |</pre>"
      ],
      "text/plain": [
       "| 2300      | 95.380250    | 1.462634           | 1.647787             | 0.426181      | 0.485292        |"
      ]
     },
     "metadata": {},
     "output_type": "display_data"
    },
    {
     "data": {
      "text/html": [
       "<pre>| 2325      | 96.476053    | 1.450860           | 1.647395             | 0.425622      | 0.485354        |</pre>"
      ],
      "text/plain": [
       "| 2325      | 96.476053    | 1.450860           | 1.647395             | 0.425622      | 0.485354        |"
      ]
     },
     "metadata": {},
     "output_type": "display_data"
    },
    {
     "data": {
      "text/html": [
       "<pre>| 2350      | 97.502414    | 1.357489           | 1.634151             | 0.425320      | 0.485305        |</pre>"
      ],
      "text/plain": [
       "| 2350      | 97.502414    | 1.357489           | 1.634151             | 0.425320      | 0.485305        |"
      ]
     },
     "metadata": {},
     "output_type": "display_data"
    },
    {
     "data": {
      "text/html": [
       "<pre>| 2375      | 98.548727    | 1.378659           | 1.636819             | 0.424531      | 0.485321        |</pre>"
      ],
      "text/plain": [
       "| 2375      | 98.548727    | 1.378659           | 1.636819             | 0.424531      | 0.485321        |"
      ]
     },
     "metadata": {},
     "output_type": "display_data"
    },
    {
     "data": {
      "text/html": [
       "<pre>| 2400      | 99.555299    | 1.377308           | 1.635466             | 0.424127      | 0.485440        |</pre>"
      ],
      "text/plain": [
       "| 2400      | 99.555299    | 1.377308           | 1.635466             | 0.424127      | 0.485440        |"
      ]
     },
     "metadata": {},
     "output_type": "display_data"
    },
    {
     "data": {
      "text/html": [
       "<pre>| 2425      | 100.596094   | 1.489938           | 1.684103             | 0.423981      | 0.485951        |</pre>"
      ],
      "text/plain": [
       "| 2425      | 100.596094   | 1.489938           | 1.684103             | 0.423981      | 0.485951        |"
      ]
     },
     "metadata": {},
     "output_type": "display_data"
    },
    {
     "data": {
      "text/html": [
       "<pre>| 2450      | 101.642154   | 1.377807           | 1.684585             | 0.423726      | 0.484976        |</pre>"
      ],
      "text/plain": [
       "| 2450      | 101.642154   | 1.377807           | 1.684585             | 0.423726      | 0.484976        |"
      ]
     },
     "metadata": {},
     "output_type": "display_data"
    },
    {
     "data": {
      "text/html": [
       "<pre>| 2475      | 102.645515   | 1.350722           | 1.640299             | 0.423460      | 0.485393        |</pre>"
      ],
      "text/plain": [
       "| 2475      | 102.645515   | 1.350722           | 1.640299             | 0.423460      | 0.485393        |"
      ]
     },
     "metadata": {},
     "output_type": "display_data"
    },
    {
     "data": {
      "text/html": [
       "<pre>| 2500      | 103.670184   | 1.349661           | 1.639237             | 0.423266      | 0.485724        |</pre>"
      ],
      "text/plain": [
       "| 2500      | 103.670184   | 1.349661           | 1.639237             | 0.423266      | 0.485724        |"
      ]
     },
     "metadata": {},
     "output_type": "display_data"
    },
    {
     "data": {
      "text/html": [
       "<pre>+-----------+--------------+--------------------+----------------------+---------------+-----------------+</pre>"
      ],
      "text/plain": [
       "+-----------+--------------+--------------------+----------------------+---------------+-----------------+"
      ]
     },
     "metadata": {},
     "output_type": "display_data"
    }
   ],
   "source": [
    "bt_model = gl.boosted_trees_regression.create(df_train, target='relevance', max_iterations=2500, row_subsample=0.4)\n",
    "bt_prediction = bt_model.predict(df_test)\n",
    "\n",
    "bt_pred = bt_prediction\n",
    "\n",
    "bt = gl.SFrame({'id':uid,'relevance':bt_pred})\n",
    "\n",
    "bt.save('/Users/ssong/Downloads/IRDM/BT_submission.csv')"
   ]
  },
  {
   "cell_type": "code",
   "execution_count": null,
   "metadata": {
    "collapsed": true
   },
   "outputs": [],
   "source": [
    "bt_model.show()\n",
    "bt.show()"
   ]
  },
  {
   "cell_type": "markdown",
   "metadata": {},
   "source": [
    "## Linear Regression\n",
    "\n",
    "Validation RMSE: 0.816637"
   ]
  },
  {
   "cell_type": "code",
   "execution_count": 10,
   "metadata": {},
   "outputs": [
    {
     "name": "stdout",
     "output_type": "stream",
     "text": [
      "PROGRESS: Creating a validation set from 5 percent of training data. This may take a while.\n",
      "          You can set ``validation_set=None`` to disable validation tracking.\n",
      "\n"
     ]
    },
    {
     "data": {
      "text/html": [
       "<pre>Linear regression:</pre>"
      ],
      "text/plain": [
       "Linear regression:"
      ]
     },
     "metadata": {},
     "output_type": "display_data"
    },
    {
     "data": {
      "text/html": [
       "<pre>--------------------------------------------------------</pre>"
      ],
      "text/plain": [
       "--------------------------------------------------------"
      ]
     },
     "metadata": {},
     "output_type": "display_data"
    },
    {
     "data": {
      "text/html": [
       "<pre>Number of examples          : 70386</pre>"
      ],
      "text/plain": [
       "Number of examples          : 70386"
      ]
     },
     "metadata": {},
     "output_type": "display_data"
    },
    {
     "data": {
      "text/html": [
       "<pre>Number of features          : 4</pre>"
      ],
      "text/plain": [
       "Number of features          : 4"
      ]
     },
     "metadata": {},
     "output_type": "display_data"
    },
    {
     "data": {
      "text/html": [
       "<pre>Number of unpacked features : 4</pre>"
      ],
      "text/plain": [
       "Number of unpacked features : 4"
      ]
     },
     "metadata": {},
     "output_type": "display_data"
    },
    {
     "data": {
      "text/html": [
       "<pre>Number of coefficients    : 63169</pre>"
      ],
      "text/plain": [
       "Number of coefficients    : 63169"
      ]
     },
     "metadata": {},
     "output_type": "display_data"
    },
    {
     "data": {
      "text/html": [
       "<pre>Starting L-BFGS</pre>"
      ],
      "text/plain": [
       "Starting L-BFGS"
      ]
     },
     "metadata": {},
     "output_type": "display_data"
    },
    {
     "data": {
      "text/html": [
       "<pre>--------------------------------------------------------</pre>"
      ],
      "text/plain": [
       "--------------------------------------------------------"
      ]
     },
     "metadata": {},
     "output_type": "display_data"
    },
    {
     "data": {
      "text/html": [
       "<pre>+-----------+----------+-----------+--------------+--------------------+----------------------+---------------+-----------------+</pre>"
      ],
      "text/plain": [
       "+-----------+----------+-----------+--------------+--------------------+----------------------+---------------+-----------------+"
      ]
     },
     "metadata": {},
     "output_type": "display_data"
    },
    {
     "data": {
      "text/html": [
       "<pre>| Iteration | Passes   | Step size | Elapsed Time | Training-max_error | Validation-max_error | Training-rmse | Validation-rmse |</pre>"
      ],
      "text/plain": [
       "| Iteration | Passes   | Step size | Elapsed Time | Training-max_error | Validation-max_error | Training-rmse | Validation-rmse |"
      ]
     },
     "metadata": {},
     "output_type": "display_data"
    },
    {
     "data": {
      "text/html": [
       "<pre>+-----------+----------+-----------+--------------+--------------------+----------------------+---------------+-----------------+</pre>"
      ],
      "text/plain": [
       "+-----------+----------+-----------+--------------+--------------------+----------------------+---------------+-----------------+"
      ]
     },
     "metadata": {},
     "output_type": "display_data"
    },
    {
     "data": {
      "text/html": [
       "<pre>| 1         | 6        | 0.000001  | 0.177597     | 2.162004           | 1.932383             | 0.535212      | 0.698616        |</pre>"
      ],
      "text/plain": [
       "| 1         | 6        | 0.000001  | 0.177597     | 2.162004           | 1.932383             | 0.535212      | 0.698616        |"
      ]
     },
     "metadata": {},
     "output_type": "display_data"
    },
    {
     "data": {
      "text/html": [
       "<pre>| 2         | 8        | 1.000000  | 0.261298     | 2.153235           | 1.934992             | 0.394439      | 0.661137        |</pre>"
      ],
      "text/plain": [
       "| 2         | 8        | 1.000000  | 0.261298     | 2.153235           | 1.934992             | 0.394439      | 0.661137        |"
      ]
     },
     "metadata": {},
     "output_type": "display_data"
    },
    {
     "data": {
      "text/html": [
       "<pre>| 3         | 9        | 1.000000  | 0.304837     | 2.136281           | 2.041878             | 0.213225      | 0.650601        |</pre>"
      ],
      "text/plain": [
       "| 3         | 9        | 1.000000  | 0.304837     | 2.136281           | 2.041878             | 0.213225      | 0.650601        |"
      ]
     },
     "metadata": {},
     "output_type": "display_data"
    },
    {
     "data": {
      "text/html": [
       "<pre>| 4         | 10       | 1.000000  | 0.358551     | 2.136139           | 2.093563             | 0.198719      | 0.660584        |</pre>"
      ],
      "text/plain": [
       "| 4         | 10       | 1.000000  | 0.358551     | 2.136139           | 2.093563             | 0.198719      | 0.660584        |"
      ]
     },
     "metadata": {},
     "output_type": "display_data"
    },
    {
     "data": {
      "text/html": [
       "<pre>| 5         | 11       | 1.000000  | 0.423084     | 2.133845           | 2.266670             | 0.187493      | 0.671910        |</pre>"
      ],
      "text/plain": [
       "| 5         | 11       | 1.000000  | 0.423084     | 2.133845           | 2.266670             | 0.187493      | 0.671910        |"
      ]
     },
     "metadata": {},
     "output_type": "display_data"
    },
    {
     "data": {
      "text/html": [
       "<pre>| 6         | 12       | 1.000000  | 0.467233     | 2.151965           | 2.649054             | 0.184596      | 0.728122        |</pre>"
      ],
      "text/plain": [
       "| 6         | 12       | 1.000000  | 0.467233     | 2.151965           | 2.649054             | 0.184596      | 0.728122        |"
      ]
     },
     "metadata": {},
     "output_type": "display_data"
    },
    {
     "data": {
      "text/html": [
       "<pre>| 11        | 17       | 1.000000  | 0.777256     | 2.131872           | 2.745656             | 0.167287      | 0.737865        |</pre>"
      ],
      "text/plain": [
       "| 11        | 17       | 1.000000  | 0.777256     | 2.131872           | 2.745656             | 0.167287      | 0.737865        |"
      ]
     },
     "metadata": {},
     "output_type": "display_data"
    },
    {
     "data": {
      "text/html": [
       "<pre>| 25        | 32       | 1.000000  | 1.441133     | 2.114179           | 3.139733             | 0.159137      | 0.806507        |</pre>"
      ],
      "text/plain": [
       "| 25        | 32       | 1.000000  | 1.441133     | 2.114179           | 3.139733             | 0.159137      | 0.806507        |"
      ]
     },
     "metadata": {},
     "output_type": "display_data"
    },
    {
     "data": {
      "text/html": [
       "<pre>| 50        | 59       | 1.000000  | 2.895544     | 2.071373           | 3.682732             | 0.157263      | 0.857661        |</pre>"
      ],
      "text/plain": [
       "| 50        | 59       | 1.000000  | 2.895544     | 2.071373           | 3.682732             | 0.157263      | 0.857661        |"
      ]
     },
     "metadata": {},
     "output_type": "display_data"
    },
    {
     "data": {
      "text/html": [
       "<pre>| 51        | 60       | 1.000000  | 2.967221     | 2.071865           | 3.671073             | 0.157247      | 0.857396        |</pre>"
      ],
      "text/plain": [
       "| 51        | 60       | 1.000000  | 2.967221     | 2.071865           | 3.671073             | 0.157247      | 0.857396        |"
      ]
     },
     "metadata": {},
     "output_type": "display_data"
    },
    {
     "data": {
      "text/html": [
       "<pre>| 75        | 85       | 1.000000  | 4.134838     | 2.021607           | 3.974421             | 0.156786      | 0.892268        |</pre>"
      ],
      "text/plain": [
       "| 75        | 85       | 1.000000  | 4.134838     | 2.021607           | 3.974421             | 0.156786      | 0.892268        |"
      ]
     },
     "metadata": {},
     "output_type": "display_data"
    },
    {
     "data": {
      "text/html": [
       "<pre>| 100       | 110      | 1.000000  | 5.295428     | 2.001034           | 3.927654             | 0.156710      | 0.893522        |</pre>"
      ],
      "text/plain": [
       "| 100       | 110      | 1.000000  | 5.295428     | 2.001034           | 3.927654             | 0.156710      | 0.893522        |"
      ]
     },
     "metadata": {},
     "output_type": "display_data"
    },
    {
     "data": {
      "text/html": [
       "<pre>| 101       | 111      | 1.000000  | 5.338689     | 2.000311           | 3.917922             | 0.156711      | 0.893355        |</pre>"
      ],
      "text/plain": [
       "| 101       | 111      | 1.000000  | 5.338689     | 2.000311           | 3.917922             | 0.156711      | 0.893355        |"
      ]
     },
     "metadata": {},
     "output_type": "display_data"
    },
    {
     "data": {
      "text/html": [
       "<pre>| 125       | 137      | 1.000000  | 6.772624     | 1.991713           | 3.817473             | 0.156702      | 0.891034        |</pre>"
      ],
      "text/plain": [
       "| 125       | 137      | 1.000000  | 6.772624     | 1.991713           | 3.817473             | 0.156702      | 0.891034        |"
      ]
     },
     "metadata": {},
     "output_type": "display_data"
    },
    {
     "data": {
      "text/html": [
       "<pre>| 150       | 163      | 1.000000  | 8.291030     | 1.974177           | 3.744471             | 0.156699      | 0.887036        |</pre>"
      ],
      "text/plain": [
       "| 150       | 163      | 1.000000  | 8.291030     | 1.974177           | 3.744471             | 0.156699      | 0.887036        |"
      ]
     },
     "metadata": {},
     "output_type": "display_data"
    },
    {
     "data": {
      "text/html": [
       "<pre>| 175       | 189      | 1.000000  | 9.467038     | 1.853290           | 3.597772             | 0.156688      | 0.856106        |</pre>"
      ],
      "text/plain": [
       "| 175       | 189      | 1.000000  | 9.467038     | 1.853290           | 3.597772             | 0.156688      | 0.856106        |"
      ]
     },
     "metadata": {},
     "output_type": "display_data"
    },
    {
     "data": {
      "text/html": [
       "<pre>| 200       | 214      | 1.000000  | 10.601575    | 1.458591           | 3.770437             | 0.156649      | 0.768251        |</pre>"
      ],
      "text/plain": [
       "| 200       | 214      | 1.000000  | 10.601575    | 1.458591           | 3.770437             | 0.156649      | 0.768251        |"
      ]
     },
     "metadata": {},
     "output_type": "display_data"
    },
    {
     "data": {
      "text/html": [
       "<pre>| 225       | 239      | 1.000000  | 11.715678    | 1.458304           | 4.040764             | 0.156612      | 0.735914        |</pre>"
      ],
      "text/plain": [
       "| 225       | 239      | 1.000000  | 11.715678    | 1.458304           | 4.040764             | 0.156612      | 0.735914        |"
      ]
     },
     "metadata": {},
     "output_type": "display_data"
    },
    {
     "data": {
      "text/html": [
       "<pre>| 250       | 266      | 1.000000  | 12.919368    | 1.457713           | 4.267713             | 0.156588      | 0.738782        |</pre>"
      ],
      "text/plain": [
       "| 250       | 266      | 1.000000  | 12.919368    | 1.457713           | 4.267713             | 0.156588      | 0.738782        |"
      ]
     },
     "metadata": {},
     "output_type": "display_data"
    },
    {
     "data": {
      "text/html": [
       "<pre>| 275       | 291      | 1.000000  | 14.101069    | 1.457719           | 4.138464             | 0.156582      | 0.742316        |</pre>"
      ],
      "text/plain": [
       "| 275       | 291      | 1.000000  | 14.101069    | 1.457719           | 4.138464             | 0.156582      | 0.742316        |"
      ]
     },
     "metadata": {},
     "output_type": "display_data"
    },
    {
     "data": {
      "text/html": [
       "<pre>| 300       | 316      | 1.000000  | 15.270089    | 1.457715           | 4.085917             | 0.156581      | 0.743137        |</pre>"
      ],
      "text/plain": [
       "| 300       | 316      | 1.000000  | 15.270089    | 1.457715           | 4.085917             | 0.156581      | 0.743137        |"
      ]
     },
     "metadata": {},
     "output_type": "display_data"
    },
    {
     "data": {
      "text/html": [
       "<pre>| 325       | 341      | 1.000000  | 16.546555    | 1.457772           | 4.057760             | 0.156580      | 0.743445        |</pre>"
      ],
      "text/plain": [
       "| 325       | 341      | 1.000000  | 16.546555    | 1.457772           | 4.057760             | 0.156580      | 0.743445        |"
      ]
     },
     "metadata": {},
     "output_type": "display_data"
    },
    {
     "data": {
      "text/html": [
       "<pre>| 350       | 367      | 1.000000  | 17.767491    | 1.457734           | 4.053689             | 0.156580      | 0.745179        |</pre>"
      ],
      "text/plain": [
       "| 350       | 367      | 1.000000  | 17.767491    | 1.457734           | 4.053689             | 0.156580      | 0.745179        |"
      ]
     },
     "metadata": {},
     "output_type": "display_data"
    },
    {
     "data": {
      "text/html": [
       "<pre>| 375       | 392      | 1.000000  | 18.879743    | 1.457304           | 4.106561             | 0.156578      | 0.752115        |</pre>"
      ],
      "text/plain": [
       "| 375       | 392      | 1.000000  | 18.879743    | 1.457304           | 4.106561             | 0.156578      | 0.752115        |"
      ]
     },
     "metadata": {},
     "output_type": "display_data"
    },
    {
     "data": {
      "text/html": [
       "<pre>| 400       | 417      | 1.000000  | 19.986811    | 1.457683           | 4.140902             | 0.156571      | 0.795348        |</pre>"
      ],
      "text/plain": [
       "| 400       | 417      | 1.000000  | 19.986811    | 1.457683           | 4.140902             | 0.156571      | 0.795348        |"
      ]
     },
     "metadata": {},
     "output_type": "display_data"
    },
    {
     "data": {
      "text/html": [
       "<pre>| 425       | 443      | 1.000000  | 21.149781    | 1.457543           | 3.895404             | 0.156563      | 0.861880        |</pre>"
      ],
      "text/plain": [
       "| 425       | 443      | 1.000000  | 21.149781    | 1.457543           | 3.895404             | 0.156563      | 0.861880        |"
      ]
     },
     "metadata": {},
     "output_type": "display_data"
    },
    {
     "data": {
      "text/html": [
       "<pre>| 450       | 470      | 1.000000  | 22.313084    | 1.457444           | 3.695381             | 0.156560      | 0.891321        |</pre>"
      ],
      "text/plain": [
       "| 450       | 470      | 1.000000  | 22.313084    | 1.457444           | 3.695381             | 0.156560      | 0.891321        |"
      ]
     },
     "metadata": {},
     "output_type": "display_data"
    },
    {
     "data": {
      "text/html": [
       "<pre>| 475       | 495      | 1.000000  | 23.457233    | 1.457721           | 3.693628             | 0.156560      | 0.890730        |</pre>"
      ],
      "text/plain": [
       "| 475       | 495      | 1.000000  | 23.457233    | 1.457721           | 3.693628             | 0.156560      | 0.890730        |"
      ]
     },
     "metadata": {},
     "output_type": "display_data"
    },
    {
     "data": {
      "text/html": [
       "<pre>| 500       | 522      | 1.000000  | 24.637632    | 1.457736           | 3.713992             | 0.156559      | 0.890422        |</pre>"
      ],
      "text/plain": [
       "| 500       | 522      | 1.000000  | 24.637632    | 1.457736           | 3.713992             | 0.156559      | 0.890422        |"
      ]
     },
     "metadata": {},
     "output_type": "display_data"
    },
    {
     "data": {
      "text/html": [
       "<pre>| 501       | 523      | 1.000000  | 24.681616    | 1.457731           | 3.713402             | 0.156559      | 0.890433        |</pre>"
      ],
      "text/plain": [
       "| 501       | 523      | 1.000000  | 24.681616    | 1.457731           | 3.713402             | 0.156559      | 0.890433        |"
      ]
     },
     "metadata": {},
     "output_type": "display_data"
    },
    {
     "data": {
      "text/html": [
       "<pre>| 525       | 547      | 1.000000  | 25.775077    | 1.457751           | 3.731550             | 0.156559      | 0.890013        |</pre>"
      ],
      "text/plain": [
       "| 525       | 547      | 1.000000  | 25.775077    | 1.457751           | 3.731550             | 0.156559      | 0.890013        |"
      ]
     },
     "metadata": {},
     "output_type": "display_data"
    },
    {
     "data": {
      "text/html": [
       "<pre>| 550       | 573      | 1.000000  | 26.920024    | 1.457768           | 3.746806             | 0.156559      | 0.888901        |</pre>"
      ],
      "text/plain": [
       "| 550       | 573      | 1.000000  | 26.920024    | 1.457768           | 3.746806             | 0.156559      | 0.888901        |"
      ]
     },
     "metadata": {},
     "output_type": "display_data"
    },
    {
     "data": {
      "text/html": [
       "<pre>| 575       | 598      | 1.000000  | 28.047901    | 1.457745           | 3.732171             | 0.156559      | 0.884889        |</pre>"
      ],
      "text/plain": [
       "| 575       | 598      | 1.000000  | 28.047901    | 1.457745           | 3.732171             | 0.156559      | 0.884889        |"
      ]
     },
     "metadata": {},
     "output_type": "display_data"
    },
    {
     "data": {
      "text/html": [
       "<pre>| 600       | 623      | 1.000000  | 29.233457    | 1.457710           | 3.699803             | 0.156559      | 0.873796        |</pre>"
      ],
      "text/plain": [
       "| 600       | 623      | 1.000000  | 29.233457    | 1.457710           | 3.699803             | 0.156559      | 0.873796        |"
      ]
     },
     "metadata": {},
     "output_type": "display_data"
    },
    {
     "data": {
      "text/html": [
       "<pre>| 625       | 651      | 1.000000  | 30.626851    | 1.457712           | 3.758551             | 0.156559      | 0.858314        |</pre>"
      ],
      "text/plain": [
       "| 625       | 651      | 1.000000  | 30.626851    | 1.457712           | 3.758551             | 0.156559      | 0.858314        |"
      ]
     },
     "metadata": {},
     "output_type": "display_data"
    },
    {
     "data": {
      "text/html": [
       "<pre>| 650       | 677      | 1.000000  | 31.973383    | 1.457721           | 3.812585             | 0.156559      | 0.849681        |</pre>"
      ],
      "text/plain": [
       "| 650       | 677      | 1.000000  | 31.973383    | 1.457721           | 3.812585             | 0.156559      | 0.849681        |"
      ]
     },
     "metadata": {},
     "output_type": "display_data"
    },
    {
     "data": {
      "text/html": [
       "<pre>| 675       | 702      | 1.000000  | 33.558804    | 1.457736           | 3.825947             | 0.156559      | 0.848404        |</pre>"
      ],
      "text/plain": [
       "| 675       | 702      | 1.000000  | 33.558804    | 1.457736           | 3.825947             | 0.156559      | 0.848404        |"
      ]
     },
     "metadata": {},
     "output_type": "display_data"
    },
    {
     "data": {
      "text/html": [
       "<pre>| 700       | 729      | 1.000000  | 34.938409    | 1.457735           | 3.826116             | 0.156559      | 0.848063        |</pre>"
      ],
      "text/plain": [
       "| 700       | 729      | 1.000000  | 34.938409    | 1.457735           | 3.826116             | 0.156559      | 0.848063        |"
      ]
     },
     "metadata": {},
     "output_type": "display_data"
    },
    {
     "data": {
      "text/html": [
       "<pre>| 725       | 756      | 1.000000  | 36.477610    | 1.457732           | 3.822883             | 0.156559      | 0.847947        |</pre>"
      ],
      "text/plain": [
       "| 725       | 756      | 1.000000  | 36.477610    | 1.457732           | 3.822883             | 0.156559      | 0.847947        |"
      ]
     },
     "metadata": {},
     "output_type": "display_data"
    },
    {
     "data": {
      "text/html": [
       "<pre>| 750       | 781      | 1.000000  | 37.827578    | 1.457739           | 3.821857             | 0.156559      | 0.848017        |</pre>"
      ],
      "text/plain": [
       "| 750       | 781      | 1.000000  | 37.827578    | 1.457739           | 3.821857             | 0.156559      | 0.848017        |"
      ]
     },
     "metadata": {},
     "output_type": "display_data"
    },
    {
     "data": {
      "text/html": [
       "<pre>| 775       | 807      | 1.000000  | 39.260085    | 1.457725           | 3.830806             | 0.156559      | 0.848422        |</pre>"
      ],
      "text/plain": [
       "| 775       | 807      | 1.000000  | 39.260085    | 1.457725           | 3.830806             | 0.156559      | 0.848422        |"
      ]
     },
     "metadata": {},
     "output_type": "display_data"
    },
    {
     "data": {
      "text/html": [
       "<pre>| 800       | 832      | 1.000000  | 40.499561    | 1.457734           | 3.847632             | 0.156558      | 0.849548        |</pre>"
      ],
      "text/plain": [
       "| 800       | 832      | 1.000000  | 40.499561    | 1.457734           | 3.847632             | 0.156558      | 0.849548        |"
      ]
     },
     "metadata": {},
     "output_type": "display_data"
    },
    {
     "data": {
      "text/html": [
       "<pre>| 825       | 858      | 1.000000  | 41.701174    | 1.457736           | 3.853982             | 0.156558      | 0.850701        |</pre>"
      ],
      "text/plain": [
       "| 825       | 858      | 1.000000  | 41.701174    | 1.457736           | 3.853982             | 0.156558      | 0.850701        |"
      ]
     },
     "metadata": {},
     "output_type": "display_data"
    },
    {
     "data": {
      "text/html": [
       "<pre>| 850       | 884      | 1.000000  | 42.931807    | 1.457728           | 3.850633             | 0.156558      | 0.851049        |</pre>"
      ],
      "text/plain": [
       "| 850       | 884      | 1.000000  | 42.931807    | 1.457728           | 3.850633             | 0.156558      | 0.851049        |"
      ]
     },
     "metadata": {},
     "output_type": "display_data"
    },
    {
     "data": {
      "text/html": [
       "<pre>| 875       | 909      | 1.000000  | 44.078134    | 1.457734           | 3.850077             | 0.156558      | 0.851145        |</pre>"
      ],
      "text/plain": [
       "| 875       | 909      | 1.000000  | 44.078134    | 1.457734           | 3.850077             | 0.156558      | 0.851145        |"
      ]
     },
     "metadata": {},
     "output_type": "display_data"
    },
    {
     "data": {
      "text/html": [
       "<pre>| 900       | 934      | 1.000000  | 45.271861    | 1.457735           | 3.851058             | 0.156558      | 0.851199        |</pre>"
      ],
      "text/plain": [
       "| 900       | 934      | 1.000000  | 45.271861    | 1.457735           | 3.851058             | 0.156558      | 0.851199        |"
      ]
     },
     "metadata": {},
     "output_type": "display_data"
    },
    {
     "data": {
      "text/html": [
       "<pre>| 925       | 959      | 1.000000  | 46.486142    | 1.457738           | 3.852057             | 0.156558      | 0.851308        |</pre>"
      ],
      "text/plain": [
       "| 925       | 959      | 1.000000  | 46.486142    | 1.457738           | 3.852057             | 0.156558      | 0.851308        |"
      ]
     },
     "metadata": {},
     "output_type": "display_data"
    },
    {
     "data": {
      "text/html": [
       "<pre>| 950       | 984      | 1.000000  | 47.672595    | 1.457730           | 3.850117             | 0.156558      | 0.851729        |</pre>"
      ],
      "text/plain": [
       "| 950       | 984      | 1.000000  | 47.672595    | 1.457730           | 3.850117             | 0.156558      | 0.851729        |"
      ]
     },
     "metadata": {},
     "output_type": "display_data"
    },
    {
     "data": {
      "text/html": [
       "<pre>| 975       | 1009     | 1.000000  | 48.835314    | 1.457737           | 3.844363             | 0.156558      | 0.852913        |</pre>"
      ],
      "text/plain": [
       "| 975       | 1009     | 1.000000  | 48.835314    | 1.457737           | 3.844363             | 0.156558      | 0.852913        |"
      ]
     },
     "metadata": {},
     "output_type": "display_data"
    },
    {
     "data": {
      "text/html": [
       "<pre>| 1000      | 1034     | 1.000000  | 50.008415    | 1.457737           | 3.835274             | 0.156558      | 0.855098        |</pre>"
      ],
      "text/plain": [
       "| 1000      | 1034     | 1.000000  | 50.008415    | 1.457737           | 3.835274             | 0.156558      | 0.855098        |"
      ]
     },
     "metadata": {},
     "output_type": "display_data"
    },
    {
     "data": {
      "text/html": [
       "<pre>| 1001      | 1035     | 1.000000  | 50.055188    | 1.457738           | 3.835255             | 0.156558      | 0.855128        |</pre>"
      ],
      "text/plain": [
       "| 1001      | 1035     | 1.000000  | 50.055188    | 1.457738           | 3.835255             | 0.156558      | 0.855128        |"
      ]
     },
     "metadata": {},
     "output_type": "display_data"
    },
    {
     "data": {
      "text/html": [
       "<pre>| 1025      | 1059     | 1.000000  | 51.134727    | 1.457736           | 3.833367             | 0.156558      | 0.856075        |</pre>"
      ],
      "text/plain": [
       "| 1025      | 1059     | 1.000000  | 51.134727    | 1.457736           | 3.833367             | 0.156558      | 0.856075        |"
      ]
     },
     "metadata": {},
     "output_type": "display_data"
    },
    {
     "data": {
      "text/html": [
       "<pre>| 1050      | 1084     | 1.000000  | 52.487508    | 1.457734           | 3.833446             | 0.156558      | 0.856245        |</pre>"
      ],
      "text/plain": [
       "| 1050      | 1084     | 1.000000  | 52.487508    | 1.457734           | 3.833446             | 0.156558      | 0.856245        |"
      ]
     },
     "metadata": {},
     "output_type": "display_data"
    },
    {
     "data": {
      "text/html": [
       "<pre>| 1075      | 1109     | 1.000000  | 53.691232    | 1.457734           | 3.832957             | 0.156558      | 0.856309        |</pre>"
      ],
      "text/plain": [
       "| 1075      | 1109     | 1.000000  | 53.691232    | 1.457734           | 3.832957             | 0.156558      | 0.856309        |"
      ]
     },
     "metadata": {},
     "output_type": "display_data"
    },
    {
     "data": {
      "text/html": [
       "<pre>+-----------+----------+-----------+--------------+--------------------+----------------------+---------------+-----------------+</pre>"
      ],
      "text/plain": [
       "+-----------+----------+-----------+--------------+--------------------+----------------------+---------------+-----------------+"
      ]
     },
     "metadata": {},
     "output_type": "display_data"
    },
    {
     "data": {
      "text/html": [
       "<pre>SUCCESS: Optimal solution found.</pre>"
      ],
      "text/plain": [
       "SUCCESS: Optimal solution found."
      ]
     },
     "metadata": {},
     "output_type": "display_data"
    },
    {
     "data": {
      "text/html": [
       "<pre></pre>"
      ],
      "text/plain": []
     },
     "metadata": {},
     "output_type": "display_data"
    }
   ],
   "source": [
    "lr_model = gl.linear_regression.create(df_train, target='relevance', max_iterations=2500)\n",
    "lr_prediction = lr_model.predict(df_test)\n",
    "\n",
    "lr_pred = dt_prediction\n",
    "\n",
    "lr = gl.SFrame({'id':uid,\n",
    "            'relevance':dt_pred})\n",
    "\n",
    "lr.save('/Users/ssong/Downloads/IRDM/LR_submission.csv')"
   ]
  },
  {
   "cell_type": "code",
   "execution_count": null,
   "metadata": {
    "collapsed": true
   },
   "outputs": [],
   "source": [
    "lr_model.show()\n",
    "lr.show()"
   ]
  },
  {
   "cell_type": "markdown",
   "metadata": {},
   "source": [
    "## Factorization Recommender\n",
    "\n",
    "Kaggle RMSE: 0.82541\n",
    "\n",
    "Needs to be run through the Binning Test"
   ]
  },
  {
   "cell_type": "code",
   "execution_count": 13,
   "metadata": {},
   "outputs": [
    {
     "data": {
      "text/html": [
       "<pre>Recsys training: model = factorization_recommender</pre>"
      ],
      "text/plain": [
       "Recsys training: model = factorization_recommender"
      ]
     },
     "metadata": {},
     "output_type": "display_data"
    },
    {
     "data": {
      "text/html": [
       "<pre>Preparing data set.</pre>"
      ],
      "text/plain": [
       "Preparing data set."
      ]
     },
     "metadata": {},
     "output_type": "display_data"
    },
    {
     "data": {
      "text/html": [
       "<pre>    Data has 74067 observations with 11795 users and 53489 items.</pre>"
      ],
      "text/plain": [
       "    Data has 74067 observations with 11795 users and 53489 items."
      ]
     },
     "metadata": {},
     "output_type": "display_data"
    },
    {
     "data": {
      "text/html": [
       "<pre>    Data prepared in: 0.262441s</pre>"
      ],
      "text/plain": [
       "    Data prepared in: 0.262441s"
      ]
     },
     "metadata": {},
     "output_type": "display_data"
    },
    {
     "data": {
      "text/html": [
       "<pre>Training factorization_recommender for recommendations.</pre>"
      ],
      "text/plain": [
       "Training factorization_recommender for recommendations."
      ]
     },
     "metadata": {},
     "output_type": "display_data"
    },
    {
     "data": {
      "text/html": [
       "<pre>+--------------------------------+--------------------------------------------------+----------+</pre>"
      ],
      "text/plain": [
       "+--------------------------------+--------------------------------------------------+----------+"
      ]
     },
     "metadata": {},
     "output_type": "display_data"
    },
    {
     "data": {
      "text/html": [
       "<pre>| Parameter                      | Description                                      | Value    |</pre>"
      ],
      "text/plain": [
       "| Parameter                      | Description                                      | Value    |"
      ]
     },
     "metadata": {},
     "output_type": "display_data"
    },
    {
     "data": {
      "text/html": [
       "<pre>+--------------------------------+--------------------------------------------------+----------+</pre>"
      ],
      "text/plain": [
       "+--------------------------------+--------------------------------------------------+----------+"
      ]
     },
     "metadata": {},
     "output_type": "display_data"
    },
    {
     "data": {
      "text/html": [
       "<pre>| num_factors                    | Factor Dimension                                 | 8        |</pre>"
      ],
      "text/plain": [
       "| num_factors                    | Factor Dimension                                 | 8        |"
      ]
     },
     "metadata": {},
     "output_type": "display_data"
    },
    {
     "data": {
      "text/html": [
       "<pre>| regularization                 | L2 Regularization on Factors                     | 1e-08    |</pre>"
      ],
      "text/plain": [
       "| regularization                 | L2 Regularization on Factors                     | 1e-08    |"
      ]
     },
     "metadata": {},
     "output_type": "display_data"
    },
    {
     "data": {
      "text/html": [
       "<pre>| solver                         | Solver used for training                         | adagrad  |</pre>"
      ],
      "text/plain": [
       "| solver                         | Solver used for training                         | adagrad  |"
      ]
     },
     "metadata": {},
     "output_type": "display_data"
    },
    {
     "data": {
      "text/html": [
       "<pre>| linear_regularization          | L2 Regularization on Linear Coefficients         | 1e-10    |</pre>"
      ],
      "text/plain": [
       "| linear_regularization          | L2 Regularization on Linear Coefficients         | 1e-10    |"
      ]
     },
     "metadata": {},
     "output_type": "display_data"
    },
    {
     "data": {
      "text/html": [
       "<pre>| max_iterations                 | Maximum Number of Iterations                     | 50       |</pre>"
      ],
      "text/plain": [
       "| max_iterations                 | Maximum Number of Iterations                     | 50       |"
      ]
     },
     "metadata": {},
     "output_type": "display_data"
    },
    {
     "data": {
      "text/html": [
       "<pre>+--------------------------------+--------------------------------------------------+----------+</pre>"
      ],
      "text/plain": [
       "+--------------------------------+--------------------------------------------------+----------+"
      ]
     },
     "metadata": {},
     "output_type": "display_data"
    },
    {
     "data": {
      "text/html": [
       "<pre>  Optimizing model using SGD; tuning step size.</pre>"
      ],
      "text/plain": [
       "  Optimizing model using SGD; tuning step size."
      ]
     },
     "metadata": {},
     "output_type": "display_data"
    },
    {
     "data": {
      "text/html": [
       "<pre>  Using 10000 / 74067 points for tuning the step size.</pre>"
      ],
      "text/plain": [
       "  Using 10000 / 74067 points for tuning the step size."
      ]
     },
     "metadata": {},
     "output_type": "display_data"
    },
    {
     "data": {
      "text/html": [
       "<pre>+---------+-------------------+------------------------------------------+</pre>"
      ],
      "text/plain": [
       "+---------+-------------------+------------------------------------------+"
      ]
     },
     "metadata": {},
     "output_type": "display_data"
    },
    {
     "data": {
      "text/html": [
       "<pre>| Attempt | Initial Step Size | Estimated Objective Value                |</pre>"
      ],
      "text/plain": [
       "| Attempt | Initial Step Size | Estimated Objective Value                |"
      ]
     },
     "metadata": {},
     "output_type": "display_data"
    },
    {
     "data": {
      "text/html": [
       "<pre>+---------+-------------------+------------------------------------------+</pre>"
      ],
      "text/plain": [
       "+---------+-------------------+------------------------------------------+"
      ]
     },
     "metadata": {},
     "output_type": "display_data"
    },
    {
     "data": {
      "text/html": [
       "<pre>| 0       | 12.5              | Not Viable                               |</pre>"
      ],
      "text/plain": [
       "| 0       | 12.5              | Not Viable                               |"
      ]
     },
     "metadata": {},
     "output_type": "display_data"
    },
    {
     "data": {
      "text/html": [
       "<pre>| 1       | 3.125             | Not Viable                               |</pre>"
      ],
      "text/plain": [
       "| 1       | 3.125             | Not Viable                               |"
      ]
     },
     "metadata": {},
     "output_type": "display_data"
    },
    {
     "data": {
      "text/html": [
       "<pre>| 2       | 0.78125           | Not Viable                               |</pre>"
      ],
      "text/plain": [
       "| 2       | 0.78125           | Not Viable                               |"
      ]
     },
     "metadata": {},
     "output_type": "display_data"
    },
    {
     "data": {
      "text/html": [
       "<pre>| 3       | 0.195312          | Not Viable                               |</pre>"
      ],
      "text/plain": [
       "| 3       | 0.195312          | Not Viable                               |"
      ]
     },
     "metadata": {},
     "output_type": "display_data"
    },
    {
     "data": {
      "text/html": [
       "<pre>| 4       | 0.0488281         | 0.0549769                                |</pre>"
      ],
      "text/plain": [
       "| 4       | 0.0488281         | 0.0549769                                |"
      ]
     },
     "metadata": {},
     "output_type": "display_data"
    },
    {
     "data": {
      "text/html": [
       "<pre>| 5       | 0.0244141         | 0.136278                                 |</pre>"
      ],
      "text/plain": [
       "| 5       | 0.0244141         | 0.136278                                 |"
      ]
     },
     "metadata": {},
     "output_type": "display_data"
    },
    {
     "data": {
      "text/html": [
       "<pre>+---------+-------------------+------------------------------------------+</pre>"
      ],
      "text/plain": [
       "+---------+-------------------+------------------------------------------+"
      ]
     },
     "metadata": {},
     "output_type": "display_data"
    },
    {
     "data": {
      "text/html": [
       "<pre>| Final   | 0.0488281         | 0.0549769                                |</pre>"
      ],
      "text/plain": [
       "| Final   | 0.0488281         | 0.0549769                                |"
      ]
     },
     "metadata": {},
     "output_type": "display_data"
    },
    {
     "data": {
      "text/html": [
       "<pre>+---------+-------------------+------------------------------------------+</pre>"
      ],
      "text/plain": [
       "+---------+-------------------+------------------------------------------+"
      ]
     },
     "metadata": {},
     "output_type": "display_data"
    },
    {
     "data": {
      "text/html": [
       "<pre>Starting Optimization.</pre>"
      ],
      "text/plain": [
       "Starting Optimization."
      ]
     },
     "metadata": {},
     "output_type": "display_data"
    },
    {
     "data": {
      "text/html": [
       "<pre>+---------+--------------+-------------------+-----------------------+-------------+</pre>"
      ],
      "text/plain": [
       "+---------+--------------+-------------------+-----------------------+-------------+"
      ]
     },
     "metadata": {},
     "output_type": "display_data"
    },
    {
     "data": {
      "text/html": [
       "<pre>| Iter.   | Elapsed Time | Approx. Objective | Approx. Training RMSE | Step Size   |</pre>"
      ],
      "text/plain": [
       "| Iter.   | Elapsed Time | Approx. Objective | Approx. Training RMSE | Step Size   |"
      ]
     },
     "metadata": {},
     "output_type": "display_data"
    },
    {
     "data": {
      "text/html": [
       "<pre>+---------+--------------+-------------------+-----------------------+-------------+</pre>"
      ],
      "text/plain": [
       "+---------+--------------+-------------------+-----------------------+-------------+"
      ]
     },
     "metadata": {},
     "output_type": "display_data"
    },
    {
     "data": {
      "text/html": [
       "<pre>| Initial | 72us         | 0.285198          | 0.534039              |             |</pre>"
      ],
      "text/plain": [
       "| Initial | 72us         | 0.285198          | 0.534039              |             |"
      ]
     },
     "metadata": {},
     "output_type": "display_data"
    },
    {
     "data": {
      "text/html": [
       "<pre>+---------+--------------+-------------------+-----------------------+-------------+</pre>"
      ],
      "text/plain": [
       "+---------+--------------+-------------------+-----------------------+-------------+"
      ]
     },
     "metadata": {},
     "output_type": "display_data"
    },
    {
     "data": {
      "text/html": [
       "<pre>| 1       | 329.558ms    | DIVERGED          | DIVERGED              | 0.0488281   |</pre>"
      ],
      "text/plain": [
       "| 1       | 329.558ms    | DIVERGED          | DIVERGED              | 0.0488281   |"
      ]
     },
     "metadata": {},
     "output_type": "display_data"
    },
    {
     "data": {
      "text/html": [
       "<pre>| RESET   | 398.848ms    | 0.285207          | 0.534048              |             |</pre>"
      ],
      "text/plain": [
       "| RESET   | 398.848ms    | 0.285207          | 0.534048              |             |"
      ]
     },
     "metadata": {},
     "output_type": "display_data"
    },
    {
     "data": {
      "text/html": [
       "<pre>| 1       | 645.936ms    | 0.264739          | 0.514523              | 0.0244141   |</pre>"
      ],
      "text/plain": [
       "| 1       | 645.936ms    | 0.264739          | 0.514523              | 0.0244141   |"
      ]
     },
     "metadata": {},
     "output_type": "display_data"
    },
    {
     "data": {
      "text/html": [
       "<pre>| 2       | 780.641ms    | 0.21859           | 0.467527              | 0.0244141   |</pre>"
      ],
      "text/plain": [
       "| 2       | 780.641ms    | 0.21859           | 0.467527              | 0.0244141   |"
      ]
     },
     "metadata": {},
     "output_type": "display_data"
    },
    {
     "data": {
      "text/html": [
       "<pre>| 3       | 946.278ms    | 0.183906          | 0.428829              | 0.0244141   |</pre>"
      ],
      "text/plain": [
       "| 3       | 946.278ms    | 0.183906          | 0.428829              | 0.0244141   |"
      ]
     },
     "metadata": {},
     "output_type": "display_data"
    },
    {
     "data": {
      "text/html": [
       "<pre>| 4       | 1.09s        | 0.197643          | 0.444556              | 0.0244141   |</pre>"
      ],
      "text/plain": [
       "| 4       | 1.09s        | 0.197643          | 0.444556              | 0.0244141   |"
      ]
     },
     "metadata": {},
     "output_type": "display_data"
    },
    {
     "data": {
      "text/html": [
       "<pre>| 5       | 1.23s        | 0.190656          | 0.436626              | 0.0244141   |</pre>"
      ],
      "text/plain": [
       "| 5       | 1.23s        | 0.190656          | 0.436626              | 0.0244141   |"
      ]
     },
     "metadata": {},
     "output_type": "display_data"
    },
    {
     "data": {
      "text/html": [
       "<pre>| 6       | 1.34s        | 0.201438          | 0.448802              | 0.0244141   |</pre>"
      ],
      "text/plain": [
       "| 6       | 1.34s        | 0.201438          | 0.448802              | 0.0244141   |"
      ]
     },
     "metadata": {},
     "output_type": "display_data"
    },
    {
     "data": {
      "text/html": [
       "<pre>| 9       | 1.92s        | 0.122094          | 0.349392              | 0.0244141   |</pre>"
      ],
      "text/plain": [
       "| 9       | 1.92s        | 0.122094          | 0.349392              | 0.0244141   |"
      ]
     },
     "metadata": {},
     "output_type": "display_data"
    },
    {
     "data": {
      "text/html": [
       "<pre>| 11      | 2.27s        | 0.09563           | 0.309206              | 0.0244141   |</pre>"
      ],
      "text/plain": [
       "| 11      | 2.27s        | 0.09563           | 0.309206              | 0.0244141   |"
      ]
     },
     "metadata": {},
     "output_type": "display_data"
    },
    {
     "data": {
      "text/html": [
       "<pre>| 19      | 3.42s        | 0.055075          | 0.234621              | 0.0244141   |</pre>"
      ],
      "text/plain": [
       "| 19      | 3.42s        | 0.055075          | 0.234621              | 0.0244141   |"
      ]
     },
     "metadata": {},
     "output_type": "display_data"
    },
    {
     "data": {
      "text/html": [
       "<pre>| 29      | 4.72s        | 0.0466716         | 0.215964              | 0.0244141   |</pre>"
      ],
      "text/plain": [
       "| 29      | 4.72s        | 0.0466716         | 0.215964              | 0.0244141   |"
      ]
     },
     "metadata": {},
     "output_type": "display_data"
    },
    {
     "data": {
      "text/html": [
       "<pre>| 39      | 5.98s        | 0.106506          | 0.326304              | 0.0244141   |</pre>"
      ],
      "text/plain": [
       "| 39      | 5.98s        | 0.106506          | 0.326304              | 0.0244141   |"
      ]
     },
     "metadata": {},
     "output_type": "display_data"
    },
    {
     "data": {
      "text/html": [
       "<pre>| 49      | 7.32s        | 0.114507          | 0.338344              | 0.0244141   |</pre>"
      ],
      "text/plain": [
       "| 49      | 7.32s        | 0.114507          | 0.338344              | 0.0244141   |"
      ]
     },
     "metadata": {},
     "output_type": "display_data"
    },
    {
     "data": {
      "text/html": [
       "<pre>| 50      | 7.48s        | DIVERGED          | DIVERGED              | 0.0244141   |</pre>"
      ],
      "text/plain": [
       "| 50      | 7.48s        | DIVERGED          | DIVERGED              | 0.0244141   |"
      ]
     },
     "metadata": {},
     "output_type": "display_data"
    },
    {
     "data": {
      "text/html": [
       "<pre>| RESET   | 7.51s        | 0.285122          | 0.533968              |             |</pre>"
      ],
      "text/plain": [
       "| RESET   | 7.51s        | 0.285122          | 0.533968              |             |"
      ]
     },
     "metadata": {},
     "output_type": "display_data"
    },
    {
     "data": {
      "text/html": [
       "<pre>| 2       | 7.80s        | 0.256072          | 0.506034              | 0.012207    |</pre>"
      ],
      "text/plain": [
       "| 2       | 7.80s        | 0.256072          | 0.506034              | 0.012207    |"
      ]
     },
     "metadata": {},
     "output_type": "display_data"
    },
    {
     "data": {
      "text/html": [
       "<pre>+---------+--------------+-------------------+-----------------------+-------------+</pre>"
      ],
      "text/plain": [
       "+---------+--------------+-------------------+-----------------------+-------------+"
      ]
     },
     "metadata": {},
     "output_type": "display_data"
    },
    {
     "data": {
      "text/html": [
       "<pre>Optimization Complete: Maximum number of passes through the data reached (hard limit).</pre>"
      ],
      "text/plain": [
       "Optimization Complete: Maximum number of passes through the data reached (hard limit)."
      ]
     },
     "metadata": {},
     "output_type": "display_data"
    },
    {
     "data": {
      "text/html": [
       "<pre>Computing final objective value and training RMSE.</pre>"
      ],
      "text/plain": [
       "Computing final objective value and training RMSE."
      ]
     },
     "metadata": {},
     "output_type": "display_data"
    },
    {
     "data": {
      "text/html": [
       "<pre>       Final objective value: 0.2069</pre>"
      ],
      "text/plain": [
       "       Final objective value: 0.2069"
      ]
     },
     "metadata": {},
     "output_type": "display_data"
    },
    {
     "data": {
      "text/html": [
       "<pre>       Final training RMSE: 0.454859</pre>"
      ],
      "text/plain": [
       "       Final training RMSE: 0.454859"
      ]
     },
     "metadata": {},
     "output_type": "display_data"
    }
   ],
   "source": [
    "fr_model = gl.factorization_recommender.create(df_train,\n",
    "                                           user_id='search_term',\n",
    "                                           item_id='product_title',\n",
    "                                           target='relevance')\n",
    "predictions = fr_model.predict(df_test)\n",
    "\n",
    "final = gl.SFrame({'id': uid,\n",
    "                  'relevance': predictions})\n",
    "\n",
    "final.save('/Users/ssong/Downloads/IRDM/FR_submission.csv')"
   ]
  },
  {
   "cell_type": "code",
   "execution_count": null,
   "metadata": {
    "collapsed": true
   },
   "outputs": [],
   "source": [
    "fr_model.show()\n",
    "final.show()"
   ]
  }
 ],
 "metadata": {
  "kernelspec": {
   "display_name": "Python 2",
   "language": "python",
   "name": "python2"
  },
  "language_info": {
   "codemirror_mode": {
    "name": "ipython",
    "version": 2
   },
   "file_extension": ".py",
   "mimetype": "text/x-python",
   "name": "python",
   "nbconvert_exporter": "python",
   "pygments_lexer": "ipython2",
   "version": "2.7.13"
  }
 },
 "nbformat": 4,
 "nbformat_minor": 2
}
