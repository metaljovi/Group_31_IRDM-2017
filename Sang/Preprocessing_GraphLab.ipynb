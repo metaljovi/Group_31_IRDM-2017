{
 "cells": [
  {
   "cell_type": "code",
   "execution_count": 1,
   "metadata": {
    "collapsed": true
   },
   "outputs": [],
   "source": [
    "import graphlab as gl\n",
    "import pandas as pd"
   ]
  },
  {
   "cell_type": "code",
   "execution_count": 2,
   "metadata": {},
   "outputs": [
    {
     "name": "stderr",
     "output_type": "stream",
     "text": [
      "[INFO] graphlab.cython.cy_server: GraphLab Create v2.1 started. Logging: /tmp/graphlab_server_1492531733.log\n"
     ]
    },
    {
     "name": "stdout",
     "output_type": "stream",
     "text": [
      "This non-commercial license of GraphLab Create for academic use is assigned to sang.song.16@ucl.ac.uk and will expire on April 05, 2018.\n"
     ]
    },
    {
     "data": {
      "text/html": [
       "<pre>Finished parsing file /Users/ssong/Downloads/IRDM/train.csv</pre>"
      ],
      "text/plain": [
       "Finished parsing file /Users/ssong/Downloads/IRDM/train.csv"
      ]
     },
     "metadata": {},
     "output_type": "display_data"
    },
    {
     "data": {
      "text/html": [
       "<pre>Parsing completed. Parsed 100 lines in 0.209542 secs.</pre>"
      ],
      "text/plain": [
       "Parsing completed. Parsed 100 lines in 0.209542 secs."
      ]
     },
     "metadata": {},
     "output_type": "display_data"
    },
    {
     "name": "stdout",
     "output_type": "stream",
     "text": [
      "------------------------------------------------------\n",
      "Inferred types from first 100 line(s) of file as \n",
      "column_type_hints=[int,int,str,str,float]\n",
      "If parsing fails due to incorrect types, you can correct\n",
      "the inferred type list above and pass it to read_csv in\n",
      "the column_type_hints argument\n",
      "------------------------------------------------------\n"
     ]
    },
    {
     "data": {
      "text/html": [
       "<pre>Finished parsing file /Users/ssong/Downloads/IRDM/train.csv</pre>"
      ],
      "text/plain": [
       "Finished parsing file /Users/ssong/Downloads/IRDM/train.csv"
      ]
     },
     "metadata": {},
     "output_type": "display_data"
    },
    {
     "data": {
      "text/html": [
       "<pre>Parsing completed. Parsed 74067 lines in 0.216029 secs.</pre>"
      ],
      "text/plain": [
       "Parsing completed. Parsed 74067 lines in 0.216029 secs."
      ]
     },
     "metadata": {},
     "output_type": "display_data"
    },
    {
     "data": {
      "text/html": [
       "<pre>Finished parsing file /Users/ssong/Downloads/IRDM/test.csv</pre>"
      ],
      "text/plain": [
       "Finished parsing file /Users/ssong/Downloads/IRDM/test.csv"
      ]
     },
     "metadata": {},
     "output_type": "display_data"
    },
    {
     "data": {
      "text/html": [
       "<pre>Parsing completed. Parsed 100 lines in 0.231478 secs.</pre>"
      ],
      "text/plain": [
       "Parsing completed. Parsed 100 lines in 0.231478 secs."
      ]
     },
     "metadata": {},
     "output_type": "display_data"
    },
    {
     "name": "stdout",
     "output_type": "stream",
     "text": [
      "------------------------------------------------------\n",
      "Inferred types from first 100 line(s) of file as \n",
      "column_type_hints=[int,int,str,str]\n",
      "If parsing fails due to incorrect types, you can correct\n",
      "the inferred type list above and pass it to read_csv in\n",
      "the column_type_hints argument\n",
      "------------------------------------------------------\n"
     ]
    },
    {
     "data": {
      "text/html": [
       "<pre>Finished parsing file /Users/ssong/Downloads/IRDM/test.csv</pre>"
      ],
      "text/plain": [
       "Finished parsing file /Users/ssong/Downloads/IRDM/test.csv"
      ]
     },
     "metadata": {},
     "output_type": "display_data"
    },
    {
     "data": {
      "text/html": [
       "<pre>Parsing completed. Parsed 166693 lines in 0.334302 secs.</pre>"
      ],
      "text/plain": [
       "Parsing completed. Parsed 166693 lines in 0.334302 secs."
      ]
     },
     "metadata": {},
     "output_type": "display_data"
    },
    {
     "data": {
      "text/html": [
       "<pre>Finished parsing file /Users/ssong/Downloads/IRDM/attributes.csv</pre>"
      ],
      "text/plain": [
       "Finished parsing file /Users/ssong/Downloads/IRDM/attributes.csv"
      ]
     },
     "metadata": {},
     "output_type": "display_data"
    },
    {
     "data": {
      "text/html": [
       "<pre>Parsing completed. Parsed 100 lines in 0.926365 secs.</pre>"
      ],
      "text/plain": [
       "Parsing completed. Parsed 100 lines in 0.926365 secs."
      ]
     },
     "metadata": {},
     "output_type": "display_data"
    },
    {
     "name": "stdout",
     "output_type": "stream",
     "text": [
      "------------------------------------------------------\n",
      "Inferred types from first 100 line(s) of file as \n",
      "column_type_hints=[int,str,str]\n",
      "If parsing fails due to incorrect types, you can correct\n",
      "the inferred type list above and pass it to read_csv in\n",
      "the column_type_hints argument\n",
      "------------------------------------------------------\n"
     ]
    },
    {
     "data": {
      "text/html": [
       "<pre>Read 1038072 lines. Lines per second: 711434</pre>"
      ],
      "text/plain": [
       "Read 1038072 lines. Lines per second: 711434"
      ]
     },
     "metadata": {},
     "output_type": "display_data"
    },
    {
     "data": {
      "text/html": [
       "<pre>Finished parsing file /Users/ssong/Downloads/IRDM/attributes.csv</pre>"
      ],
      "text/plain": [
       "Finished parsing file /Users/ssong/Downloads/IRDM/attributes.csv"
      ]
     },
     "metadata": {},
     "output_type": "display_data"
    },
    {
     "data": {
      "text/html": [
       "<pre>Parsing completed. Parsed 2044803 lines in 2.03924 secs.</pre>"
      ],
      "text/plain": [
       "Parsing completed. Parsed 2044803 lines in 2.03924 secs."
      ]
     },
     "metadata": {},
     "output_type": "display_data"
    },
    {
     "data": {
      "text/html": [
       "<pre>Finished parsing file /Users/ssong/Downloads/IRDM/product_descriptions.csv</pre>"
      ],
      "text/plain": [
       "Finished parsing file /Users/ssong/Downloads/IRDM/product_descriptions.csv"
      ]
     },
     "metadata": {},
     "output_type": "display_data"
    },
    {
     "data": {
      "text/html": [
       "<pre>Parsing completed. Parsed 100 lines in 0.647102 secs.</pre>"
      ],
      "text/plain": [
       "Parsing completed. Parsed 100 lines in 0.647102 secs."
      ]
     },
     "metadata": {},
     "output_type": "display_data"
    },
    {
     "name": "stdout",
     "output_type": "stream",
     "text": [
      "------------------------------------------------------\n",
      "Inferred types from first 100 line(s) of file as \n",
      "column_type_hints=[int,str]\n",
      "If parsing fails due to incorrect types, you can correct\n",
      "the inferred type list above and pass it to read_csv in\n",
      "the column_type_hints argument\n",
      "------------------------------------------------------\n"
     ]
    },
    {
     "data": {
      "text/html": [
       "<pre>Finished parsing file /Users/ssong/Downloads/IRDM/product_descriptions.csv</pre>"
      ],
      "text/plain": [
       "Finished parsing file /Users/ssong/Downloads/IRDM/product_descriptions.csv"
      ]
     },
     "metadata": {},
     "output_type": "display_data"
    },
    {
     "data": {
      "text/html": [
       "<pre>Parsing completed. Parsed 124428 lines in 1.7444 secs.</pre>"
      ],
      "text/plain": [
       "Parsing completed. Parsed 124428 lines in 1.7444 secs."
      ]
     },
     "metadata": {},
     "output_type": "display_data"
    }
   ],
   "source": [
    "df_train = gl.SFrame('/Users/ssong/Downloads/IRDM/train.csv')\n",
    "df_test = gl.SFrame('/Users/ssong/Downloads/IRDM/test.csv')\n",
    "df_attr = gl.SFrame('/Users/ssong/Downloads/IRDM/attributes.csv')\n",
    "df_desc = gl.SFrame('/Users/ssong/Downloads/IRDM/product_descriptions.csv')"
   ]
  },
  {
   "cell_type": "code",
   "execution_count": 3,
   "metadata": {
    "collapsed": true
   },
   "outputs": [],
   "source": [
    "## Turning SFrames into dataframes\n",
    "\n",
    "pd_train = df_train.to_dataframe()\n",
    "pd_test = df_test.to_dataframe()\n",
    "pd_desc = df_desc.to_dataframe()\n",
    "pd_attr = df_attr.to_dataframe()\n",
    "\n",
    "## Creating two features\n",
    "\n",
    "ft_brand = pd_attr[pd_attr.name == \"MFG Brand Name\"][[\"product_uid\", \"value\"]].rename(columns={\"value\": \"brand\"})\n",
    "ft_material = pd_attr[pd_attr.name == \"Material\"][[\"product_uid\", \"value\"]].rename(columns={\"value\": \"material\"})\n",
    "\n",
    "## Merging files and features\n",
    "pd_train_combined = pd_train\n",
    "pd_train_combined = pd.merge(pd_train_combined, pd_desc, how='left', on='product_uid')\n",
    "pd_train_combined = pd.merge(pd_train_combined, ft_brand, how='left', on='product_uid')\n",
    "pd_train_combined = pd.merge(pd_train_combined, ft_material, how='left', on='product_uid')\n",
    "\n",
    "## Save as csv\n",
    "pd_train_combined.to_csv('/Users/ssong/Downloads/IRDM/train_combined.csv')"
   ]
  },
  {
   "cell_type": "code",
   "execution_count": 4,
   "metadata": {
    "collapsed": true
   },
   "outputs": [],
   "source": [
    "## Merging files and features\n",
    "pd_test_combined = pd_test\n",
    "pd_test_combined = pd.merge(pd_test_combined, pd_desc, how='left', on='product_uid')\n",
    "pd_test_combined = pd.merge(pd_test_combined, ft_brand, how='left', on='product_uid')\n",
    "pd_test_combined = pd.merge(pd_test_combined, ft_material, how='left', on='product_uid')\n",
    "\n",
    "## Save as csv\n",
    "pd_test_combined.to_csv('/Users/ssong/Downloads/IRDM/test_combined.csv')"
   ]
  }
 ],
 "metadata": {
  "kernelspec": {
   "display_name": "Python 2",
   "language": "python",
   "name": "python2"
  },
  "language_info": {
   "codemirror_mode": {
    "name": "ipython",
    "version": 2
   },
   "file_extension": ".py",
   "mimetype": "text/x-python",
   "name": "python",
   "nbconvert_exporter": "python",
   "pygments_lexer": "ipython2",
   "version": "2.7.13"
  }
 },
 "nbformat": 4,
 "nbformat_minor": 2
}
