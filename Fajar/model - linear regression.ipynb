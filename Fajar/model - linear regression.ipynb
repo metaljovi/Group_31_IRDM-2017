{
 "cells": [
  {
   "cell_type": "code",
   "execution_count": 26,
   "metadata": {
    "collapsed": false
   },
   "outputs": [],
   "source": [
    "import numpy as np\n",
    "import pandas as pd\n",
    "from sklearn.linear_model import LinearRegression\n",
    "from sklearn import metrics\n",
    "from sklearn.model_selection import GridSearchCV, cross_val_score, KFold"
   ]
  },
  {
   "cell_type": "code",
   "execution_count": 27,
   "metadata": {
    "collapsed": false
   },
   "outputs": [
    {
     "data": {
      "text/plain": [
       "74067"
      ]
     },
     "execution_count": 27,
     "metadata": {},
     "output_type": "execute_result"
    }
   ],
   "source": [
    "train = pd.read_csv('train.csv', encoding=\"latin-1\")\n",
    "test = pd.read_csv('test.csv', encoding=\"latin-1\")\n",
    "num_train = train.shape[0]\n",
    "num_train"
   ]
  },
  {
   "cell_type": "code",
   "execution_count": 28,
   "metadata": {
    "collapsed": false
   },
   "outputs": [
    {
     "data": {
      "text/plain": [
       "Index(['Unnamed: 0', 'id', 'product_title', 'product_uid', 'relevance',\n",
       "       'search_term', 'product_description', 'product_colour', 'brand',\n",
       "       'product_weight', 'product_depth', 'product_height', 'product_width',\n",
       "       'Bullet01', 'Bullet02', 'Bullet03', 'Bullet04', 'Bullet05',\n",
       "       'num_words_query', 'num_words_title', 'num_words_brand',\n",
       "       'num_words_colour', 'num_words_weight', 'num_words_height',\n",
       "       'num_words_depth', 'num_words_width', 'query_in_title',\n",
       "       'common_words_query_and_title', 'query_last_word_in_title',\n",
       "       'title_seq_match_score', 'title_levenshtein_ratio',\n",
       "       'title_Jaccard_dist_norm', 'ratio_title', 'query_in_description',\n",
       "       'common_words_query_and_desc', 'query_last_word_in_desc',\n",
       "       'desc_sequence_match_score', 'desc_levenshtein_ratio',\n",
       "       'desc_Jaccard_dist_norm', 'ratio_description', 'query_in_brand',\n",
       "       'common_words_query_and_brand', 'brand_sequence_match_score',\n",
       "       'brand_levenshtein_ratio', 'brand_Jaccard_dist_norm', 'ratio_brand',\n",
       "       'query_in_colour', 'common_words_query_and_colour',\n",
       "       'query_first_word_in_colour', 'colour_sequence_match_score',\n",
       "       'colour_levenshtein_ratio', 'colour_Jaccard_dist_norm', 'ratio_colour',\n",
       "       'common_words_query_and_size', 'query_last_word_in_size',\n",
       "       'size_sequence_match_score', 'size_levenshtein_ratio',\n",
       "       'size_Jaccard_dist_norm', 'ratio_size', 'query_in_bullets',\n",
       "       'common_words_query_and_bullets', 'bullets_sequence_match_score',\n",
       "       'bullets_levenshtein_ratio', 'bullets_Jaccard_dist_norm',\n",
       "       'ratio_bullets'],\n",
       "      dtype='object')"
      ]
     },
     "execution_count": 28,
     "metadata": {},
     "output_type": "execute_result"
    }
   ],
   "source": [
    "features = pd.read_csv('ready.csv')\n",
    "features.columns"
   ]
  },
  {
   "cell_type": "code",
   "execution_count": 29,
   "metadata": {
    "collapsed": false
   },
   "outputs": [],
   "source": [
    "features = features.drop(['Unnamed: 0', 'product_title', 'product_uid', \n",
    "       'search_term', 'product_description', 'product_colour', 'brand',\n",
    "       'product_weight', 'product_depth', 'product_height', 'product_width',\n",
    "       'Bullet01', 'Bullet02', 'Bullet03', 'Bullet04', 'Bullet05',],axis=1)\n",
    "features = features.fillna(0)\n",
    "df_train = features.iloc[:num_train]\n",
    "df_test = features.iloc[num_train:]\n",
    "id_test = df_test['id']\n",
    "y_train = df_train['relevance']\n",
    "x_train = df_train.drop(['id','relevance'],axis=1)\n",
    "x_test = df_test.drop(['id','relevance'],axis=1)"
   ]
  },
  {
   "cell_type": "code",
   "execution_count": 30,
   "metadata": {
    "collapsed": false
   },
   "outputs": [
    {
     "name": "stdout",
     "output_type": "stream",
     "text": [
      "74067 74067 166693 240760 166693\n"
     ]
    }
   ],
   "source": [
    "print(len(x_train), len(y_train), len(x_test), len(features), len(id_test))"
   ]
  },
  {
   "cell_type": "code",
   "execution_count": 31,
   "metadata": {
    "collapsed": true
   },
   "outputs": [],
   "source": [
    "score = []\n",
    "def metric_scorer(model, x, y):\n",
    "    y_pred = model.predict(x)\n",
    "    y_pred_scaled = np.array([max(min(y,3.0),1.0) for y in y_pred])\n",
    "    exp_var = metrics.explained_variance_score(y,y_pred)\n",
    "    mean_abs_err = metrics.mean_absolute_error(y,y_pred)\n",
    "    mean_sq_err = metrics.mean_squared_error(y,y_pred)\n",
    "    rms = np.sqrt(mean_sq_err)\n",
    "    r2_sc = metrics.r2_score(y,y_pred)\n",
    "    score.append((exp_var,mean_abs_err,mean_sq_err,rms,r2_sc))\n",
    "    \n",
    "    return rms"
   ]
  },
  {
   "cell_type": "code",
   "execution_count": 32,
   "metadata": {
    "collapsed": false
   },
   "outputs": [
    {
     "data": {
      "text/plain": [
       "{'mean_fit_time': array([ 0.55919472,  0.67188954,  0.6770939 ,  0.58201249]),\n",
       " 'mean_score_time': array([ 0.0341018 ,  0.0260423 ,  0.0208358 ,  0.02083357]),\n",
       " 'mean_test_score': array([-0.23841816, -0.23841816, -0.26877853, -0.26877853]),\n",
       " 'mean_train_score': array([-0.22983879, -0.22983879, -0.257054  , -0.257054  ]),\n",
       " 'param_fit_intercept': masked_array(data = [True True False False],\n",
       "              mask = [False False False False],\n",
       "        fill_value = ?),\n",
       " 'param_normalize': masked_array(data = [True False True False],\n",
       "              mask = [False False False False],\n",
       "        fill_value = ?),\n",
       " 'params': ({'fit_intercept': True, 'normalize': True},\n",
       "  {'fit_intercept': True, 'normalize': False},\n",
       "  {'fit_intercept': False, 'normalize': True},\n",
       "  {'fit_intercept': False, 'normalize': False}),\n",
       " 'rank_test_score': array([2, 1, 3, 3]),\n",
       " 'split0_test_score': array([-0.23667401, -0.23667401, -0.27360061, -0.27360061]),\n",
       " 'split0_train_score': array([-0.23024042, -0.23024042, -0.25402663, -0.25402663]),\n",
       " 'split1_test_score': array([-0.22422429, -0.22422429, -0.25233753, -0.25233753]),\n",
       " 'split1_train_score': array([-0.23545486, -0.23545486, -0.26329773, -0.26329773]),\n",
       " 'split2_test_score': array([-0.25435617, -0.25435617, -0.28039745, -0.28039745]),\n",
       " 'split2_train_score': array([-0.22382107, -0.22382107, -0.25383763, -0.25383763]),\n",
       " 'std_fit_time': array([ 0.07211528,  0.02209523,  0.01949007,  0.13162389]),\n",
       " 'std_score_time': array([ 0.02612762,  0.00736176,  0.00736598,  0.00736553]),\n",
       " 'std_test_score': array([ 0.01236296,  0.01236296,  0.0119521 ,  0.0119521 ]),\n",
       " 'std_train_score': array([ 0.00475796,  0.00475796,  0.00441566,  0.00441566])}"
      ]
     },
     "execution_count": 32,
     "metadata": {},
     "output_type": "execute_result"
    }
   ],
   "source": [
    "# specify parameters and distributions to sample from\n",
    "clf = LinearRegression()\n",
    "params = {\n",
    "            'fit_intercept': [True, False],\n",
    "            'normalize': [True, False],\n",
    "          }\n",
    "\n",
    "k_fold = KFold(3, random_state=1)\n",
    "\n",
    "grid_search = GridSearchCV(clf, param_grid=params,scoring='neg_mean_squared_error', cv=k_fold, n_jobs=4)\n",
    "grid_search.fit(x_train, y_train)\n",
    "result = grid_search.cv_results_\n",
    "result"
   ]
  },
  {
   "cell_type": "code",
   "execution_count": 33,
   "metadata": {
    "collapsed": true
   },
   "outputs": [],
   "source": [
    "optimized_list = []\n",
    "optimized = {}\n",
    "\n",
    "#take the best CV result\n",
    "for i in range(1,51):\n",
    "    best = np.flatnonzero(result['rank_test_score'] == i)\n",
    "    for b in best:\n",
    "        rmse = np.sqrt(abs(result['mean_test_score'][b]))\n",
    "        optimized = {'rank': i, 'rmse': rmse,\n",
    "                     'fit_intercept': result['param_fit_intercept'].data[b],\n",
    "                     'normalize': result['param_normalize'].data[b]}        \n",
    "        optimized_list.append(optimized)\n",
    "#optimized"
   ]
  },
  {
   "cell_type": "code",
   "execution_count": 34,
   "metadata": {
    "collapsed": false
   },
   "outputs": [
    {
     "data": {
      "text/html": [
       "<div>\n",
       "<table border=\"1\" class=\"dataframe\">\n",
       "  <thead>\n",
       "    <tr style=\"text-align: right;\">\n",
       "      <th></th>\n",
       "      <th>rank</th>\n",
       "      <th>rmse</th>\n",
       "      <th>fit_intercept</th>\n",
       "      <th>normalize</th>\n",
       "    </tr>\n",
       "  </thead>\n",
       "  <tbody>\n",
       "    <tr>\n",
       "      <th>0</th>\n",
       "      <td>1.0</td>\n",
       "      <td>0.488281</td>\n",
       "      <td>True</td>\n",
       "      <td>False</td>\n",
       "    </tr>\n",
       "    <tr>\n",
       "      <th>1</th>\n",
       "      <td>2.0</td>\n",
       "      <td>0.488281</td>\n",
       "      <td>True</td>\n",
       "      <td>True</td>\n",
       "    </tr>\n",
       "    <tr>\n",
       "      <th>2</th>\n",
       "      <td>3.0</td>\n",
       "      <td>0.518439</td>\n",
       "      <td>False</td>\n",
       "      <td>True</td>\n",
       "    </tr>\n",
       "    <tr>\n",
       "      <th>3</th>\n",
       "      <td>3.0</td>\n",
       "      <td>0.518439</td>\n",
       "      <td>False</td>\n",
       "      <td>False</td>\n",
       "    </tr>\n",
       "  </tbody>\n",
       "</table>\n",
       "</div>"
      ],
      "text/plain": [
       "   rank      rmse fit_intercept normalize\n",
       "0   1.0  0.488281          True     False\n",
       "1   2.0  0.488281          True      True\n",
       "2   3.0  0.518439         False      True\n",
       "3   3.0  0.518439         False     False"
      ]
     },
     "execution_count": 34,
     "metadata": {},
     "output_type": "execute_result"
    }
   ],
   "source": [
    "df = pd.DataFrame(columns=['rank','rmse','fit_intercept','normalize'])\n",
    "df = df.append(optimized_list)\n",
    "df.to_csv('optimisation_linear_regression.csv')\n",
    "df"
   ]
  },
  {
   "cell_type": "code",
   "execution_count": 35,
   "metadata": {
    "collapsed": false
   },
   "outputs": [
    {
     "data": {
      "text/plain": [
       "fit_intercept     True\n",
       "normalize        False\n",
       "Name: 0, dtype: object"
      ]
     },
     "execution_count": 35,
     "metadata": {},
     "output_type": "execute_result"
    }
   ],
   "source": [
    "optimum_param = df.iloc[0][2:]\n",
    "optimum_param = optimum_param.T\n",
    "optimum_param"
   ]
  },
  {
   "cell_type": "code",
   "execution_count": 36,
   "metadata": {
    "collapsed": false
   },
   "outputs": [],
   "source": [
    "model = LinearRegression(fit_intercept=optimum_param['fit_intercept'],\n",
    "                         normalize=optimum_param['normalize'],\n",
    "                         n_jobs=-1)\n",
    "model.fit(x_train,y_train)\n",
    "y_pred= model.predict(x_test)\n",
    "y_pred = np.array([max(min(y,3.0),1.0) for y in y_pred])\n",
    "pd.DataFrame({\"id\": id_test, \"relevance\": y_pred}).to_csv('submission_linear_regression.csv',index=False)"
   ]
  },
  {
   "cell_type": "code",
   "execution_count": 37,
   "metadata": {
    "collapsed": false
   },
   "outputs": [
    {
     "data": {
      "text/plain": [
       "1.8166235704070193"
      ]
     },
     "execution_count": 37,
     "metadata": {},
     "output_type": "execute_result"
    }
   ],
   "source": [
    "y_pred[0]"
   ]
  },
  {
   "cell_type": "code",
   "execution_count": 38,
   "metadata": {
    "collapsed": false
   },
   "outputs": [
    {
     "data": {
      "text/html": [
       "<div>\n",
       "<table border=\"1\" class=\"dataframe\">\n",
       "  <thead>\n",
       "    <tr style=\"text-align: right;\">\n",
       "      <th></th>\n",
       "      <th>F- 1</th>\n",
       "      <th>F- 2</th>\n",
       "      <th>F- 3</th>\n",
       "      <th>F- 4</th>\n",
       "      <th>F- 5</th>\n",
       "      <th>F- 6</th>\n",
       "      <th>F- 7</th>\n",
       "      <th>F- 8</th>\n",
       "      <th>F- 9</th>\n",
       "      <th>F- 10</th>\n",
       "      <th>mean</th>\n",
       "      <th>std</th>\n",
       "    </tr>\n",
       "  </thead>\n",
       "  <tbody>\n",
       "    <tr>\n",
       "      <th>expl_var</th>\n",
       "      <td>0.195863</td>\n",
       "      <td>0.190708</td>\n",
       "      <td>0.191922</td>\n",
       "      <td>0.200461</td>\n",
       "      <td>0.179216</td>\n",
       "      <td>0.211297</td>\n",
       "      <td>0.185901</td>\n",
       "      <td>0.177856</td>\n",
       "      <td>0.132457</td>\n",
       "      <td>0.132780</td>\n",
       "      <td>0.179846</td>\n",
       "      <td>0.025370</td>\n",
       "    </tr>\n",
       "    <tr>\n",
       "      <th>mae</th>\n",
       "      <td>0.405136</td>\n",
       "      <td>0.394543</td>\n",
       "      <td>0.389819</td>\n",
       "      <td>0.388601</td>\n",
       "      <td>0.386008</td>\n",
       "      <td>0.381617</td>\n",
       "      <td>0.388017</td>\n",
       "      <td>0.386223</td>\n",
       "      <td>0.388520</td>\n",
       "      <td>0.402329</td>\n",
       "      <td>0.391081</td>\n",
       "      <td>0.007061</td>\n",
       "    </tr>\n",
       "    <tr>\n",
       "      <th>mse</th>\n",
       "      <td>0.239696</td>\n",
       "      <td>0.232733</td>\n",
       "      <td>0.226600</td>\n",
       "      <td>0.226255</td>\n",
       "      <td>0.223883</td>\n",
       "      <td>0.218728</td>\n",
       "      <td>0.224901</td>\n",
       "      <td>0.237540</td>\n",
       "      <td>0.241220</td>\n",
       "      <td>0.258240</td>\n",
       "      <td>0.232980</td>\n",
       "      <td>0.010995</td>\n",
       "    </tr>\n",
       "    <tr>\n",
       "      <th>rmse</th>\n",
       "      <td>0.489587</td>\n",
       "      <td>0.482424</td>\n",
       "      <td>0.476025</td>\n",
       "      <td>0.475663</td>\n",
       "      <td>0.473163</td>\n",
       "      <td>0.467684</td>\n",
       "      <td>0.474237</td>\n",
       "      <td>0.487381</td>\n",
       "      <td>0.491141</td>\n",
       "      <td>0.508173</td>\n",
       "      <td>0.482548</td>\n",
       "      <td>0.011276</td>\n",
       "    </tr>\n",
       "    <tr>\n",
       "      <th>r2</th>\n",
       "      <td>0.171483</td>\n",
       "      <td>0.177703</td>\n",
       "      <td>0.182685</td>\n",
       "      <td>0.195124</td>\n",
       "      <td>0.173685</td>\n",
       "      <td>0.208930</td>\n",
       "      <td>0.181632</td>\n",
       "      <td>0.153528</td>\n",
       "      <td>0.079453</td>\n",
       "      <td>0.074363</td>\n",
       "      <td>0.159859</td>\n",
       "      <td>0.043711</td>\n",
       "    </tr>\n",
       "  </tbody>\n",
       "</table>\n",
       "</div>"
      ],
      "text/plain": [
       "              F- 1      F- 2      F- 3      F- 4      F- 5      F- 6  \\\n",
       "expl_var  0.195863  0.190708  0.191922  0.200461  0.179216  0.211297   \n",
       "mae       0.405136  0.394543  0.389819  0.388601  0.386008  0.381617   \n",
       "mse       0.239696  0.232733  0.226600  0.226255  0.223883  0.218728   \n",
       "rmse      0.489587  0.482424  0.476025  0.475663  0.473163  0.467684   \n",
       "r2        0.171483  0.177703  0.182685  0.195124  0.173685  0.208930   \n",
       "\n",
       "              F- 7      F- 8      F- 9     F- 10      mean       std  \n",
       "expl_var  0.185901  0.177856  0.132457  0.132780  0.179846  0.025370  \n",
       "mae       0.388017  0.386223  0.388520  0.402329  0.391081  0.007061  \n",
       "mse       0.224901  0.237540  0.241220  0.258240  0.232980  0.010995  \n",
       "rmse      0.474237  0.487381  0.491141  0.508173  0.482548  0.011276  \n",
       "r2        0.181632  0.153528  0.079453  0.074363  0.159859  0.043711  "
      ]
     },
     "execution_count": 38,
     "metadata": {},
     "output_type": "execute_result"
    }
   ],
   "source": [
    "k_fold = KFold(10, random_state=1)\n",
    "linear_regression_scores = cross_val_score(model, x_train, y_train, cv=k_fold, scoring=metric_scorer, n_jobs=1)\n",
    "\n",
    "# In[6]:\n",
    "\n",
    "# CV results\n",
    "cv_results_df = pd.DataFrame(score)\n",
    "cv_results_df.columns = ['expl_var','mae','mse','rmse','r2']\n",
    "cv_results_df = cv_results_df.T\n",
    "cv_results_df.columns = ['F- '+str(i+1) for i in cv_results_df.columns]\n",
    "means = []\n",
    "stds = []\n",
    "for i in range(0,5):\n",
    "    means.append(np.mean(cv_results_df.iloc[i].values))\n",
    "    stds.append(np.std(cv_results_df.iloc[i].values))\n",
    "cv_results_df['mean'] = means\n",
    "cv_results_df['std'] = stds\n",
    "cv_results_df.to_csv('CV_linear_regression.csv')\n",
    "cv_results_df"
   ]
  },
  {
   "cell_type": "code",
   "execution_count": null,
   "metadata": {
    "collapsed": true
   },
   "outputs": [],
   "source": []
  }
 ],
 "metadata": {
  "kernelspec": {
   "display_name": "Python 3",
   "language": "python",
   "name": "python3"
  },
  "language_info": {
   "codemirror_mode": {
    "name": "ipython",
    "version": 3
   },
   "file_extension": ".py",
   "mimetype": "text/x-python",
   "name": "python",
   "nbconvert_exporter": "python",
   "pygments_lexer": "ipython3",
   "version": "3.6.0"
  }
 },
 "nbformat": 4,
 "nbformat_minor": 2
}
