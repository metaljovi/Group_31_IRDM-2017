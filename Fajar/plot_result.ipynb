{
 "cells": [
  {
   "cell_type": "code",
   "execution_count": 1,
   "metadata": {
    "collapsed": true
   },
   "outputs": [],
   "source": [
    "import pandas as pd\n",
    "import numpy as np\n",
    "import matplotlib.pyplot as plt\n",
    "import seaborn as sns"
   ]
  },
  {
   "cell_type": "code",
   "execution_count": 2,
   "metadata": {
    "collapsed": false
   },
   "outputs": [],
   "source": [
    "df_linear = pd.read_csv('CV_linear_regression.csv',index_col='Unnamed: 0')\n",
    "df_ridge = pd.read_csv('CV_ridge.csv',index_col='Unnamed: 0')\n",
    "df_xgb = pd.read_csv('CV_xgboost.csv',index_col='Unnamed: 0')"
   ]
  },
  {
   "cell_type": "code",
   "execution_count": 3,
   "metadata": {
    "collapsed": false
   },
   "outputs": [
    {
     "data": {
      "text/html": [
       "<div>\n",
       "<table border=\"1\" class=\"dataframe\">\n",
       "  <thead>\n",
       "    <tr style=\"text-align: right;\">\n",
       "      <th></th>\n",
       "      <th>F- 1</th>\n",
       "      <th>F- 2</th>\n",
       "      <th>F- 3</th>\n",
       "      <th>F- 4</th>\n",
       "      <th>F- 5</th>\n",
       "      <th>F- 6</th>\n",
       "      <th>F- 7</th>\n",
       "      <th>F- 8</th>\n",
       "      <th>F- 9</th>\n",
       "      <th>F- 10</th>\n",
       "      <th>mean</th>\n",
       "      <th>std</th>\n",
       "    </tr>\n",
       "  </thead>\n",
       "  <tbody>\n",
       "    <tr>\n",
       "      <th>expl_var</th>\n",
       "      <td>0.195863</td>\n",
       "      <td>0.190708</td>\n",
       "      <td>0.191922</td>\n",
       "      <td>0.200461</td>\n",
       "      <td>0.179216</td>\n",
       "      <td>0.211297</td>\n",
       "      <td>0.185901</td>\n",
       "      <td>0.177856</td>\n",
       "      <td>0.132457</td>\n",
       "      <td>0.132780</td>\n",
       "      <td>0.179846</td>\n",
       "      <td>0.025370</td>\n",
       "    </tr>\n",
       "    <tr>\n",
       "      <th>mae</th>\n",
       "      <td>0.405136</td>\n",
       "      <td>0.394543</td>\n",
       "      <td>0.389819</td>\n",
       "      <td>0.388601</td>\n",
       "      <td>0.386008</td>\n",
       "      <td>0.381617</td>\n",
       "      <td>0.388017</td>\n",
       "      <td>0.386223</td>\n",
       "      <td>0.388520</td>\n",
       "      <td>0.402329</td>\n",
       "      <td>0.391081</td>\n",
       "      <td>0.007061</td>\n",
       "    </tr>\n",
       "    <tr>\n",
       "      <th>mse</th>\n",
       "      <td>0.239696</td>\n",
       "      <td>0.232733</td>\n",
       "      <td>0.226600</td>\n",
       "      <td>0.226255</td>\n",
       "      <td>0.223883</td>\n",
       "      <td>0.218728</td>\n",
       "      <td>0.224901</td>\n",
       "      <td>0.237540</td>\n",
       "      <td>0.241220</td>\n",
       "      <td>0.258240</td>\n",
       "      <td>0.232980</td>\n",
       "      <td>0.010995</td>\n",
       "    </tr>\n",
       "    <tr>\n",
       "      <th>rmse</th>\n",
       "      <td>0.489587</td>\n",
       "      <td>0.482424</td>\n",
       "      <td>0.476025</td>\n",
       "      <td>0.475663</td>\n",
       "      <td>0.473163</td>\n",
       "      <td>0.467684</td>\n",
       "      <td>0.474237</td>\n",
       "      <td>0.487381</td>\n",
       "      <td>0.491141</td>\n",
       "      <td>0.508173</td>\n",
       "      <td>0.482548</td>\n",
       "      <td>0.011276</td>\n",
       "    </tr>\n",
       "    <tr>\n",
       "      <th>r2</th>\n",
       "      <td>0.171483</td>\n",
       "      <td>0.177703</td>\n",
       "      <td>0.182685</td>\n",
       "      <td>0.195124</td>\n",
       "      <td>0.173685</td>\n",
       "      <td>0.208930</td>\n",
       "      <td>0.181632</td>\n",
       "      <td>0.153528</td>\n",
       "      <td>0.079453</td>\n",
       "      <td>0.074363</td>\n",
       "      <td>0.159859</td>\n",
       "      <td>0.043711</td>\n",
       "    </tr>\n",
       "  </tbody>\n",
       "</table>\n",
       "</div>"
      ],
      "text/plain": [
       "              F- 1      F- 2      F- 3      F- 4      F- 5      F- 6  \\\n",
       "expl_var  0.195863  0.190708  0.191922  0.200461  0.179216  0.211297   \n",
       "mae       0.405136  0.394543  0.389819  0.388601  0.386008  0.381617   \n",
       "mse       0.239696  0.232733  0.226600  0.226255  0.223883  0.218728   \n",
       "rmse      0.489587  0.482424  0.476025  0.475663  0.473163  0.467684   \n",
       "r2        0.171483  0.177703  0.182685  0.195124  0.173685  0.208930   \n",
       "\n",
       "              F- 7      F- 8      F- 9     F- 10      mean       std  \n",
       "expl_var  0.185901  0.177856  0.132457  0.132780  0.179846  0.025370  \n",
       "mae       0.388017  0.386223  0.388520  0.402329  0.391081  0.007061  \n",
       "mse       0.224901  0.237540  0.241220  0.258240  0.232980  0.010995  \n",
       "rmse      0.474237  0.487381  0.491141  0.508173  0.482548  0.011276  \n",
       "r2        0.181632  0.153528  0.079453  0.074363  0.159859  0.043711  "
      ]
     },
     "execution_count": 3,
     "metadata": {},
     "output_type": "execute_result"
    }
   ],
   "source": [
    "df_linear"
   ]
  },
  {
   "cell_type": "code",
   "execution_count": 4,
   "metadata": {
    "collapsed": false
   },
   "outputs": [
    {
     "data": {
      "text/html": [
       "<div>\n",
       "<table border=\"1\" class=\"dataframe\">\n",
       "  <thead>\n",
       "    <tr style=\"text-align: right;\">\n",
       "      <th></th>\n",
       "      <th>mean</th>\n",
       "    </tr>\n",
       "  </thead>\n",
       "  <tbody>\n",
       "    <tr>\n",
       "      <th>expl_var</th>\n",
       "      <td>0.179846</td>\n",
       "    </tr>\n",
       "    <tr>\n",
       "      <th>mae</th>\n",
       "      <td>0.391081</td>\n",
       "    </tr>\n",
       "    <tr>\n",
       "      <th>mse</th>\n",
       "      <td>0.232980</td>\n",
       "    </tr>\n",
       "    <tr>\n",
       "      <th>rmse</th>\n",
       "      <td>0.482548</td>\n",
       "    </tr>\n",
       "    <tr>\n",
       "      <th>r2</th>\n",
       "      <td>0.159859</td>\n",
       "    </tr>\n",
       "  </tbody>\n",
       "</table>\n",
       "</div>"
      ],
      "text/plain": [
       "              mean\n",
       "expl_var  0.179846\n",
       "mae       0.391081\n",
       "mse       0.232980\n",
       "rmse      0.482548\n",
       "r2        0.159859"
      ]
     },
     "execution_count": 4,
     "metadata": {},
     "output_type": "execute_result"
    }
   ],
   "source": [
    "plot_df = df_linear[['mean']]\n",
    "plot_df"
   ]
  },
  {
   "cell_type": "code",
   "execution_count": 5,
   "metadata": {
    "collapsed": false
   },
   "outputs": [
    {
     "data": {
      "image/png": "[encoded data removed]",
      "text/plain": [
       "<matplotlib.figure.Figure at 0x1eb838e6630>"
      ]
     },
     "metadata": {},
     "output_type": "display_data"
    }
   ],
   "source": [
    "plot_df.plot(kind='bar', legend=True, title='Linear Regression')\n",
    "plt.show()"
   ]
  },
  {
   "cell_type": "code",
   "execution_count": 6,
   "metadata": {
    "collapsed": false
   },
   "outputs": [
    {
     "data": {
      "text/html": [
       "<div>\n",
       "<table border=\"1\" class=\"dataframe\">\n",
       "  <thead>\n",
       "    <tr style=\"text-align: right;\">\n",
       "      <th></th>\n",
       "      <th>mean</th>\n",
       "    </tr>\n",
       "  </thead>\n",
       "  <tbody>\n",
       "    <tr>\n",
       "      <th>expl_var</th>\n",
       "      <td>0.179966</td>\n",
       "    </tr>\n",
       "    <tr>\n",
       "      <th>mae</th>\n",
       "      <td>0.391129</td>\n",
       "    </tr>\n",
       "    <tr>\n",
       "      <th>mse</th>\n",
       "      <td>0.232980</td>\n",
       "    </tr>\n",
       "    <tr>\n",
       "      <th>rmse</th>\n",
       "      <td>0.482547</td>\n",
       "    </tr>\n",
       "    <tr>\n",
       "      <th>r2</th>\n",
       "      <td>0.159857</td>\n",
       "    </tr>\n",
       "  </tbody>\n",
       "</table>\n",
       "</div>"
      ],
      "text/plain": [
       "              mean\n",
       "expl_var  0.179966\n",
       "mae       0.391129\n",
       "mse       0.232980\n",
       "rmse      0.482547\n",
       "r2        0.159857"
      ]
     },
     "execution_count": 6,
     "metadata": {},
     "output_type": "execute_result"
    }
   ],
   "source": [
    "plot_df = df_ridge[['mean']]\n",
    "plot_df"
   ]
  },
  {
   "cell_type": "code",
   "execution_count": 7,
   "metadata": {
    "collapsed": false
   },
   "outputs": [
    {
     "data": {
      "image/png": "[encoded data removed]",
      "text/plain": [
       "<matplotlib.figure.Figure at 0x1eb838e62e8>"
      ]
     },
     "metadata": {},
     "output_type": "display_data"
    }
   ],
   "source": [
    "plot_df.plot(kind='bar', legend=True, title='Ridge Regression')\n",
    "plt.show()"
   ]
  },
  {
   "cell_type": "code",
   "execution_count": 8,
   "metadata": {
    "collapsed": false
   },
   "outputs": [
    {
     "data": {
      "text/html": [
       "<div>\n",
       "<table border=\"1\" class=\"dataframe\">\n",
       "  <thead>\n",
       "    <tr style=\"text-align: right;\">\n",
       "      <th></th>\n",
       "      <th>mean</th>\n",
       "    </tr>\n",
       "  </thead>\n",
       "  <tbody>\n",
       "    <tr>\n",
       "      <th>expl_var</th>\n",
       "      <td>0.221594</td>\n",
       "    </tr>\n",
       "    <tr>\n",
       "      <th>mae</th>\n",
       "      <td>0.376963</td>\n",
       "    </tr>\n",
       "    <tr>\n",
       "      <th>mse</th>\n",
       "      <td>0.218723</td>\n",
       "    </tr>\n",
       "    <tr>\n",
       "      <th>rmse</th>\n",
       "      <td>0.467561</td>\n",
       "    </tr>\n",
       "    <tr>\n",
       "      <th>r2</th>\n",
       "      <td>0.211505</td>\n",
       "    </tr>\n",
       "  </tbody>\n",
       "</table>\n",
       "</div>"
      ],
      "text/plain": [
       "              mean\n",
       "expl_var  0.221594\n",
       "mae       0.376963\n",
       "mse       0.218723\n",
       "rmse      0.467561\n",
       "r2        0.211505"
      ]
     },
     "execution_count": 8,
     "metadata": {},
     "output_type": "execute_result"
    }
   ],
   "source": [
    "plot_df = df_xgb[['mean']]\n",
    "plot_df"
   ]
  },
  {
   "cell_type": "code",
   "execution_count": 9,
   "metadata": {
    "collapsed": false
   },
   "outputs": [
    {
     "data": {
      "image/png": "[encoded data removed]",
      "text/plain": [
       "<matplotlib.figure.Figure at 0x1eb83e12fd0>"
      ]
     },
     "metadata": {},
     "output_type": "display_data"
    }
   ],
   "source": [
    "plot_df.plot(kind='bar', legend=True, title='Gradient Boosting')\n",
    "plt.show()"
   ]
  },
  {
   "cell_type": "code",
   "execution_count": null,
   "metadata": {
    "collapsed": true
   },
   "outputs": [],
   "source": []
  }
 ],
 "metadata": {
  "kernelspec": {
   "display_name": "Python 3",
   "language": "python",
   "name": "python3"
  },
  "language_info": {
   "codemirror_mode": {
    "name": "ipython",
    "version": 3
   },
   "file_extension": ".py",
   "mimetype": "text/x-python",
   "name": "python",
   "nbconvert_exporter": "python",
   "pygments_lexer": "ipython3",
   "version": "3.6.0"
  }
 },
 "nbformat": 4,
 "nbformat_minor": 2
}
